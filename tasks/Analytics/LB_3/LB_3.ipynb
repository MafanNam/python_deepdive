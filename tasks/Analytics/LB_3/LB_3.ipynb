{
 "nbformat": 4,
 "nbformat_minor": 0,
 "metadata": {
  "colab": {
   "provenance": []
  },
  "kernelspec": {
   "name": "python3",
   "display_name": "Python 3 (ipykernel)",
   "language": "python"
  },
  "language_info": {
   "name": "python"
  }
 },
 "cells": [
  {
   "cell_type": "markdown",
   "source": [
    "## Обробка та аналіз біомедичних даних\n",
    "### БС-24\n",
    "### Манзик Максим\n",
    "## Лабораторна робота №3"
   ],
   "metadata": {
    "id": "OA2r2kZgmh3R"
   }
  },
  {
   "cell_type": "code",
   "source": [
    "import pandas as pd"
   ],
   "metadata": {
    "id": "FMbJj8aHnyc2",
    "ExecuteTime": {
     "end_time": "2024-04-29T20:20:33.026626Z",
     "start_time": "2024-04-29T20:20:33.023872Z"
    }
   },
   "outputs": [],
   "execution_count": 15
  },
  {
   "cell_type": "code",
   "source": [
    "data = pd.read_csv(r\"C:\\Users\\kepkp\\PycharmProjects\\Study\\python_deepdive\\tasks\\Analytics\\LB_3\\salaries.csv\",\n",
    "                   encoding='utf-8')\n",
    "print(type(data))"
   ],
   "metadata": {
    "colab": {
     "base_uri": "https://localhost:8080/"
    },
    "id": "K0wYIHsomr-Z",
    "outputId": "bdff71b2-f4ce-4e80-aec5-c3cf0413a782",
    "ExecuteTime": {
     "end_time": "2024-04-29T20:20:33.084576Z",
     "start_time": "2024-04-29T20:20:33.067498Z"
    }
   },
   "outputs": [
    {
     "name": "stdout",
     "output_type": "stream",
     "text": [
      "<class 'pandas.core.frame.DataFrame'>\n"
     ]
    }
   ],
   "execution_count": 16
  },
  {
   "cell_type": "code",
   "source": [
    "data"
   ],
   "metadata": {
    "colab": {
     "base_uri": "https://localhost:8080/",
     "height": 423
    },
    "id": "niPAmZqxoz9V",
    "outputId": "4945e448-7593-4582-c271-90c881004625",
    "ExecuteTime": {
     "end_time": "2024-04-29T20:20:33.127293Z",
     "start_time": "2024-04-29T20:20:33.118435Z"
    }
   },
   "outputs": [
    {
     "data": {
      "text/plain": [
       "       work_year experience_level employment_type                 job_title  \\\n",
       "0           2024               MI              FT            Data Scientist   \n",
       "1           2024               MI              FT            Data Scientist   \n",
       "2           2024               MI              CT            Data Scientist   \n",
       "3           2024               MI              CT            Data Scientist   \n",
       "4           2024               MI              FT      Data Science Manager   \n",
       "...          ...              ...             ...                       ...   \n",
       "16489       2020               SE              FT            Data Scientist   \n",
       "16490       2021               MI              FT  Principal Data Scientist   \n",
       "16491       2020               EN              FT            Data Scientist   \n",
       "16492       2020               EN              CT     Business Data Analyst   \n",
       "16493       2021               SE              FT      Data Science Manager   \n",
       "\n",
       "        salary salary_currency  salary_in_usd employee_residence  \\\n",
       "0       120000             USD         120000                 AU   \n",
       "1        70000             USD          70000                 AU   \n",
       "2       130000             USD         130000                 US   \n",
       "3       110000             USD         110000                 US   \n",
       "4       240000             USD         240000                 US   \n",
       "...        ...             ...            ...                ...   \n",
       "16489   412000             USD         412000                 US   \n",
       "16490   151000             USD         151000                 US   \n",
       "16491   105000             USD         105000                 US   \n",
       "16492   100000             USD         100000                 US   \n",
       "16493  7000000             INR          94665                 IN   \n",
       "\n",
       "       remote_ratio company_location company_size  \n",
       "0                 0               AU            S  \n",
       "1                 0               AU            S  \n",
       "2                 0               US            M  \n",
       "3                 0               US            M  \n",
       "4                 0               US            M  \n",
       "...             ...              ...          ...  \n",
       "16489           100               US            L  \n",
       "16490           100               US            L  \n",
       "16491           100               US            S  \n",
       "16492           100               US            L  \n",
       "16493            50               IN            L  \n",
       "\n",
       "[16494 rows x 11 columns]"
      ],
      "text/html": [
       "<div>\n",
       "<style scoped>\n",
       "    .dataframe tbody tr th:only-of-type {\n",
       "        vertical-align: middle;\n",
       "    }\n",
       "\n",
       "    .dataframe tbody tr th {\n",
       "        vertical-align: top;\n",
       "    }\n",
       "\n",
       "    .dataframe thead th {\n",
       "        text-align: right;\n",
       "    }\n",
       "</style>\n",
       "<table border=\"1\" class=\"dataframe\">\n",
       "  <thead>\n",
       "    <tr style=\"text-align: right;\">\n",
       "      <th></th>\n",
       "      <th>work_year</th>\n",
       "      <th>experience_level</th>\n",
       "      <th>employment_type</th>\n",
       "      <th>job_title</th>\n",
       "      <th>salary</th>\n",
       "      <th>salary_currency</th>\n",
       "      <th>salary_in_usd</th>\n",
       "      <th>employee_residence</th>\n",
       "      <th>remote_ratio</th>\n",
       "      <th>company_location</th>\n",
       "      <th>company_size</th>\n",
       "    </tr>\n",
       "  </thead>\n",
       "  <tbody>\n",
       "    <tr>\n",
       "      <th>0</th>\n",
       "      <td>2024</td>\n",
       "      <td>MI</td>\n",
       "      <td>FT</td>\n",
       "      <td>Data Scientist</td>\n",
       "      <td>120000</td>\n",
       "      <td>USD</td>\n",
       "      <td>120000</td>\n",
       "      <td>AU</td>\n",
       "      <td>0</td>\n",
       "      <td>AU</td>\n",
       "      <td>S</td>\n",
       "    </tr>\n",
       "    <tr>\n",
       "      <th>1</th>\n",
       "      <td>2024</td>\n",
       "      <td>MI</td>\n",
       "      <td>FT</td>\n",
       "      <td>Data Scientist</td>\n",
       "      <td>70000</td>\n",
       "      <td>USD</td>\n",
       "      <td>70000</td>\n",
       "      <td>AU</td>\n",
       "      <td>0</td>\n",
       "      <td>AU</td>\n",
       "      <td>S</td>\n",
       "    </tr>\n",
       "    <tr>\n",
       "      <th>2</th>\n",
       "      <td>2024</td>\n",
       "      <td>MI</td>\n",
       "      <td>CT</td>\n",
       "      <td>Data Scientist</td>\n",
       "      <td>130000</td>\n",
       "      <td>USD</td>\n",
       "      <td>130000</td>\n",
       "      <td>US</td>\n",
       "      <td>0</td>\n",
       "      <td>US</td>\n",
       "      <td>M</td>\n",
       "    </tr>\n",
       "    <tr>\n",
       "      <th>3</th>\n",
       "      <td>2024</td>\n",
       "      <td>MI</td>\n",
       "      <td>CT</td>\n",
       "      <td>Data Scientist</td>\n",
       "      <td>110000</td>\n",
       "      <td>USD</td>\n",
       "      <td>110000</td>\n",
       "      <td>US</td>\n",
       "      <td>0</td>\n",
       "      <td>US</td>\n",
       "      <td>M</td>\n",
       "    </tr>\n",
       "    <tr>\n",
       "      <th>4</th>\n",
       "      <td>2024</td>\n",
       "      <td>MI</td>\n",
       "      <td>FT</td>\n",
       "      <td>Data Science Manager</td>\n",
       "      <td>240000</td>\n",
       "      <td>USD</td>\n",
       "      <td>240000</td>\n",
       "      <td>US</td>\n",
       "      <td>0</td>\n",
       "      <td>US</td>\n",
       "      <td>M</td>\n",
       "    </tr>\n",
       "    <tr>\n",
       "      <th>...</th>\n",
       "      <td>...</td>\n",
       "      <td>...</td>\n",
       "      <td>...</td>\n",
       "      <td>...</td>\n",
       "      <td>...</td>\n",
       "      <td>...</td>\n",
       "      <td>...</td>\n",
       "      <td>...</td>\n",
       "      <td>...</td>\n",
       "      <td>...</td>\n",
       "      <td>...</td>\n",
       "    </tr>\n",
       "    <tr>\n",
       "      <th>16489</th>\n",
       "      <td>2020</td>\n",
       "      <td>SE</td>\n",
       "      <td>FT</td>\n",
       "      <td>Data Scientist</td>\n",
       "      <td>412000</td>\n",
       "      <td>USD</td>\n",
       "      <td>412000</td>\n",
       "      <td>US</td>\n",
       "      <td>100</td>\n",
       "      <td>US</td>\n",
       "      <td>L</td>\n",
       "    </tr>\n",
       "    <tr>\n",
       "      <th>16490</th>\n",
       "      <td>2021</td>\n",
       "      <td>MI</td>\n",
       "      <td>FT</td>\n",
       "      <td>Principal Data Scientist</td>\n",
       "      <td>151000</td>\n",
       "      <td>USD</td>\n",
       "      <td>151000</td>\n",
       "      <td>US</td>\n",
       "      <td>100</td>\n",
       "      <td>US</td>\n",
       "      <td>L</td>\n",
       "    </tr>\n",
       "    <tr>\n",
       "      <th>16491</th>\n",
       "      <td>2020</td>\n",
       "      <td>EN</td>\n",
       "      <td>FT</td>\n",
       "      <td>Data Scientist</td>\n",
       "      <td>105000</td>\n",
       "      <td>USD</td>\n",
       "      <td>105000</td>\n",
       "      <td>US</td>\n",
       "      <td>100</td>\n",
       "      <td>US</td>\n",
       "      <td>S</td>\n",
       "    </tr>\n",
       "    <tr>\n",
       "      <th>16492</th>\n",
       "      <td>2020</td>\n",
       "      <td>EN</td>\n",
       "      <td>CT</td>\n",
       "      <td>Business Data Analyst</td>\n",
       "      <td>100000</td>\n",
       "      <td>USD</td>\n",
       "      <td>100000</td>\n",
       "      <td>US</td>\n",
       "      <td>100</td>\n",
       "      <td>US</td>\n",
       "      <td>L</td>\n",
       "    </tr>\n",
       "    <tr>\n",
       "      <th>16493</th>\n",
       "      <td>2021</td>\n",
       "      <td>SE</td>\n",
       "      <td>FT</td>\n",
       "      <td>Data Science Manager</td>\n",
       "      <td>7000000</td>\n",
       "      <td>INR</td>\n",
       "      <td>94665</td>\n",
       "      <td>IN</td>\n",
       "      <td>50</td>\n",
       "      <td>IN</td>\n",
       "      <td>L</td>\n",
       "    </tr>\n",
       "  </tbody>\n",
       "</table>\n",
       "<p>16494 rows × 11 columns</p>\n",
       "</div>"
      ]
     },
     "execution_count": 17,
     "metadata": {},
     "output_type": "execute_result"
    }
   ],
   "execution_count": 17
  },
  {
   "cell_type": "markdown",
   "source": "### Візуалізуємо дані",
   "metadata": {
    "id": "OF9M7TaI95kf"
   }
  },
  {
   "cell_type": "code",
   "source": [
    "import seaborn as sns\n",
    "import matplotlib.pyplot as plt\n"
   ],
   "metadata": {
    "id": "I55e-SjZoGT0",
    "ExecuteTime": {
     "end_time": "2024-04-29T20:20:33.130925Z",
     "start_time": "2024-04-29T20:20:33.128334Z"
    }
   },
   "outputs": [],
   "execution_count": 18
  },
  {
   "cell_type": "code",
   "source": [
    "sns.countplot(data=data, x='company_size', hue='company_size', palette='Blues', legend=False)\n",
    "plt.title('Розподіл за величиною компанії')\n",
    "plt.xlabel('Розмір')\n",
    "plt.ylabel('Частота')\n",
    "plt.show()\n",
    "\n",
    "sns.countplot(data=data, x='experience_level', hue='experience_level', palette='Reds', legend=False)\n",
    "plt.title('Розподіл за рівнем знань')\n",
    "plt.xlabel('Рівень')\n",
    "plt.ylabel('Частота')\n",
    "plt.show()\n",
    "\n",
    "sns.countplot(data=data, x='employment_type', hue='employment_type', palette='Greens', legend=False)\n",
    "plt.title('Розподіл за видом роботи')\n",
    "plt.xlabel('Вид')\n",
    "plt.ylabel('Частота')\n",
    "plt.show()"
   ],
   "metadata": {
    "colab": {
     "base_uri": "https://localhost:8080/",
     "height": 1000
    },
    "id": "3OAvwiTkpVJG",
    "outputId": "3b1699eb-a018-452b-8403-763060d57e8e",
    "ExecuteTime": {
     "end_time": "2024-04-29T20:20:33.639577Z",
     "start_time": "2024-04-29T20:20:33.164167Z"
    }
   },
   "outputs": [
    {
     "data": {
      "text/plain": [
       "<Figure size 640x480 with 1 Axes>"
      ],
      "image/png": "[encoded data removed]"
     },
     "metadata": {},
     "output_type": "display_data"
    },
    {
     "data": {
      "text/plain": [
       "<Figure size 640x480 with 1 Axes>"
      ],
      "image/png": "[encoded data removed]"
     },
     "metadata": {},
     "output_type": "display_data"
    },
    {
     "data": {
      "text/plain": [
       "<Figure size 640x480 with 1 Axes>"
      ],
      "image/png": "[encoded data removed]"
     },
     "metadata": {},
     "output_type": "display_data"
    }
   ],
   "execution_count": 19
  },
  {
   "cell_type": "markdown",
   "source": "## Створимо таблиці спряженості для попарних комбінацій",
   "metadata": {
    "id": "ASI2Txkd9Y1j"
   }
  },
  {
   "cell_type": "code",
   "source": [
    "# Обчислення таблиці спряженості для employment_type та company_size\n",
    "employment_company_cross_tab = pd.crosstab(index=data['employment_type'], columns=data['company_size'])\n",
    "employment_company_cross_tab['Всього'] = employment_company_cross_tab.sum(axis=1)\n",
    "# Обчислення таблиці спряженості для experience_level та company_size\n",
    "experience_company_cross_tab = pd.crosstab(index=data['experience_level'], columns=data['company_size'])\n",
    "experience_company_cross_tab['Всього'] = experience_company_cross_tab.sum(axis=1)\n",
    "# Обчислення таблиці спряженості для experience_level та employment_type\n",
    "experience_employment_cross_tab = pd.crosstab(index=data['experience_level'], columns=data['employment_type'])\n",
    "experience_employment_cross_tab['Всього'] = experience_employment_cross_tab.sum(axis=1)\n",
    "print(\"Таблиця спряженості для employment_type та company_size:\")\n",
    "print(employment_company_cross_tab)\n",
    "print(\"\\nТаблиця спряженості для experience_level та company_size:\")\n",
    "print(experience_company_cross_tab)\n",
    "print(\"\\nТаблиця спряженості для experience_level та employment_type:\")\n",
    "print(experience_employment_cross_tab)"
   ],
   "metadata": {
    "colab": {
     "base_uri": "https://localhost:8080/"
    },
    "id": "z93YcT01tP5q",
    "outputId": "3a5a3132-8318-4146-ed14-c8780f6bdaad",
    "ExecuteTime": {
     "end_time": "2024-04-29T20:20:33.663344Z",
     "start_time": "2024-04-29T20:20:33.640081Z"
    }
   },
   "outputs": [
    {
     "name": "stdout",
     "output_type": "stream",
     "text": [
      "Таблиця спряженості для employment_type та company_size:\n",
      "company_size        L      M    S  Всього\n",
      "employment_type                          \n",
      "CT                  7     12    9      28\n",
      "FL                  1      6    7      14\n",
      "FT               1020  15228  166   16414\n",
      "PT                 10     22    6      38\n",
      "\n",
      "Таблиця спряженості для experience_level та company_size:\n",
      "company_size        L      M   S  Всього\n",
      "experience_level                        \n",
      "EN                130   1137  52    1319\n",
      "EX                 23    468   8     499\n",
      "MI                324   3630  70    4024\n",
      "SE                561  10033  58   10652\n",
      "\n",
      "Таблиця спряженості для experience_level та employment_type:\n",
      "employment_type   CT  FL     FT  PT  Всього\n",
      "experience_level                           \n",
      "EN                 7   3   1281  28    1319\n",
      "EX                 1   0    498   0     499\n",
      "MI                14   6   3997   7    4024\n",
      "SE                 6   5  10638   3   10652\n"
     ]
    }
   ],
   "execution_count": 20
  },
  {
   "cell_type": "markdown",
   "source": "### Тепер розрахуємо таблиці з відсотковим розподілом",
   "metadata": {
    "id": "nmw80Yh09X5g"
   }
  },
  {
   "cell_type": "code",
   "source": [
    "employment_company_cross_tab_percent = pd.crosstab(index=data['employment_type'], columns=data['company_size'],\n",
    "                                                   normalize='index') * 100\n",
    "print(\"Таблиця спряженості для employment_type та company_size з відсотковим розподілом:\")\n",
    "print(employment_company_cross_tab_percent)\n",
    "experience_company_cross_tab_percent = pd.crosstab(index=data['experience_level'], columns=data['company_size'],\n",
    "                                                   normalize='index') * 100\n",
    "print(\"\\nТаблиця спряженості для experience_level та company_size з відсотковим розподілом:\")\n",
    "print(experience_company_cross_tab_percent)\n",
    "experience_employment_cross_tab_percent = pd.crosstab(index=data['experience_level'], columns=data['employment_type'],\n",
    "                                                      normalize='index') * 100\n",
    "print(\"\\nТаблиця спряженості для experience_level та employment_type з відсотковим розподілом:\")\n",
    "print(experience_employment_cross_tab_percent)\n"
   ],
   "metadata": {
    "colab": {
     "base_uri": "https://localhost:8080/"
    },
    "id": "EqUEh8lru_hO",
    "outputId": "43bd257f-a9e4-4309-8624-b9af9d0510da",
    "ExecuteTime": {
     "end_time": "2024-04-29T20:20:33.687135Z",
     "start_time": "2024-04-29T20:20:33.663344Z"
    }
   },
   "outputs": [
    {
     "name": "stdout",
     "output_type": "stream",
     "text": [
      "Таблиця спряженості для employment_type та company_size з відсотковим розподілом:\n",
      "company_size             L          M          S\n",
      "employment_type                                 \n",
      "CT               25.000000  42.857143  32.142857\n",
      "FL                7.142857  42.857143  50.000000\n",
      "FT                6.214207  92.774461   1.011332\n",
      "PT               26.315789  57.894737  15.789474\n",
      "\n",
      "Таблиця спряженості для experience_level та company_size з відсотковим розподілом:\n",
      "company_size             L          M         S\n",
      "experience_level                               \n",
      "EN                9.855951  86.201668  3.942381\n",
      "EX                4.609218  93.787575  1.603206\n",
      "MI                8.051690  90.208748  1.739563\n",
      "SE                5.266617  94.188885  0.544499\n",
      "\n",
      "Таблиця спряженості для experience_level та employment_type з відсотковим розподілом:\n",
      "employment_type         CT        FL         FT        PT\n",
      "experience_level                                         \n",
      "EN                0.530705  0.227445  97.119030  2.122820\n",
      "EX                0.200401  0.000000  99.799599  0.000000\n",
      "MI                0.347913  0.149105  99.329026  0.173956\n",
      "SE                0.056327  0.046940  99.868569  0.028164\n"
     ]
    }
   ],
   "execution_count": 21
  },
  {
   "cell_type": "markdown",
   "source": [
    "## Сформулюємо гіпотези для всіх пар зміних\n",
    "\n",
    "### Для employment_type та company_size\n",
    "\n",
    "Нульова гіпотеза (H0): Немає залежності між employment_type та company_size.\n",
    "\n",
    "Альтернативна гіпотеза (H1): Існує залежність між employment_type та company_size.\n",
    "\n",
    "### Для experience_level та company_size\n",
    "\n",
    "Нульова гіпотеза (H0): Немає залежності між experience_level та company_size.\n",
    "\n",
    "Альтернативна гіпотеза (H1): Існує залежність між experience_level та company_size.\n",
    "\n",
    "### Для experience_level та employment_type\n",
    "\n",
    "Нульова гіпотеза (H0): Немає залежності між experience_level та employment_type.\n",
    "\n",
    "Альтернативна гіпотеза (H1): Існує залежність між experience_level та employment_type.\n"
   ],
   "metadata": {
    "id": "Lvg3d89BprFk"
   }
  },
  {
   "cell_type": "code",
   "source": [
    "from scipy.stats import chi2_contingency\n",
    "\n",
    "\n",
    "def check_hypothesis(table, null_hypothesis, alternative_hypothesis):\n",
    "    chi2, p, dof, expected = chi2_contingency(table)\n",
    "    print(\"Статистика критерію Пірсона (χ²):\", chi2)\n",
    "    print(\"p-value:\", p)\n",
    "\n",
    "    alpha = 0.05\n",
    "    if p < alpha:\n",
    "        print(\"\\nВідхиляємо нульову гіпотезу.\")\n",
    "        print(alternative_hypothesis)\n",
    "    else:\n",
    "        print(\"\\nНе відхиляємо нульову гіпотезу.\")\n",
    "        print(null_hypothesis)\n",
    "\n",
    "\n",
    "print(\"Перевірка гіпотези для employment_type та company_size:\")\n",
    "check_hypothesis(employment_company_cross_tab, \"Немає залежності між employment_type та company_size.\",\n",
    "                 \"Існує залежність між employment_type та company_size.\")\n",
    "\n",
    "print(\"\\nПеревірка гіпотези для experience_level та company_size:\")\n",
    "check_hypothesis(experience_company_cross_tab, \"Немає залежності між experience_level та company_size.\",\n",
    "                 \"Існує залежність між experience_level та company_size.\")\n",
    "\n",
    "print(\"\\nПеревірка гіпотези для experience_level та employment_type:\")\n",
    "check_hypothesis(experience_employment_cross_tab, \"Немає залежності між experience_level та employment_type.\",\n",
    "                 \"Існує залежність між experience_level та employment_type.\")\n"
   ],
   "metadata": {
    "colab": {
     "base_uri": "https://localhost:8080/"
    },
    "id": "5ZMLasXT1PVM",
    "outputId": "146bd8bf-ce08-4428-ec34-6ca190015b0f",
    "ExecuteTime": {
     "end_time": "2024-04-29T20:20:33.694963Z",
     "start_time": "2024-04-29T20:20:33.688649Z"
    }
   },
   "outputs": [
    {
     "name": "stdout",
     "output_type": "stream",
     "text": [
      "Перевірка гіпотези для employment_type та company_size:\n",
      "Статистика критерію Пірсона (χ²): 659.4561195613572\n",
      "p-value: 3.576390476295275e-136\n",
      "\n",
      "Відхиляємо нульову гіпотезу.\n",
      "Існує залежність між employment_type та company_size.\n",
      "\n",
      "Перевірка гіпотези для experience_level та company_size:\n",
      "Статистика критерію Пірсона (χ²): 215.4125149434501\n",
      "p-value: 1.9283044773059145e-41\n",
      "\n",
      "Відхиляємо нульову гіпотезу.\n",
      "Існує залежність між experience_level та company_size.\n",
      "\n",
      "Перевірка гіпотези для experience_level та employment_type:\n",
      "Статистика критерію Пірсона (χ²): 259.6526495690167\n",
      "p-value: 1.323413660605993e-48\n",
      "\n",
      "Відхиляємо нульову гіпотезу.\n",
      "Існує залежність між experience_level та employment_type.\n"
     ]
    }
   ],
   "execution_count": 22
  },
  {
   "cell_type": "markdown",
   "source": [],
   "metadata": {
    "id": "YR_YMsEL5Pom"
   }
  }
 ]
}
