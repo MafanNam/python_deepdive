{
 "nbformat": 4,
 "nbformat_minor": 0,
 "metadata": {
  "colab": {
   "provenance": []
  },
  "kernelspec": {
   "name": "python3",
   "display_name": "Python 3 (ipykernel)",
   "language": "python"
  },
  "language_info": {
   "name": "python"
  }
 },
 "cells": [
  {
   "cell_type": "markdown",
   "source": [
    "## Обробка та аналіз біомедичних даних\n",
    "### БС-24\n",
    "### Манзик Максим\n",
    "## Лабораторна робота №4-5"
   ],
   "metadata": {
    "id": "GZAt9BBuWvJJ"
   }
  },
  {
   "cell_type": "code",
   "metadata": {
    "id": "rXCHIJ7mS3hn",
    "ExecuteTime": {
     "end_time": "2024-04-29T21:04:53.067241Z",
     "start_time": "2024-04-29T21:04:53.064215Z"
    }
   },
   "source": [
    "from scipy.stats import shapiro, ttest_ind, ttest_rel\n",
    "import matplotlib.pyplot as plt\n",
    "import pandas as pd\n",
    "import numpy as np\n",
    "import seaborn as sns"
   ],
   "outputs": [],
   "execution_count": 61
  },
  {
   "cell_type": "markdown",
   "source": "## Оберемо набір даних що буде характерезувати продаж діамантів",
   "metadata": {
    "id": "4EvHRBOjzavs"
   }
  },
  {
   "cell_type": "code",
   "source": [
    "data = pd.read_csv(r\"C:\\Users\\kepkp\\PycharmProjects\\Study\\python_deepdive\\tasks\\Analytics\\LB_4-5\\diamonds.csv\",\n",
    "                   encoding='utf-8')\n",
    "print(type(data))"
   ],
   "metadata": {
    "colab": {
     "base_uri": "https://localhost:8080/"
    },
    "id": "9paB8OmzWxzb",
    "outputId": "3b54c87b-1998-44fa-c391-b0ed66f2ee5c",
    "ExecuteTime": {
     "end_time": "2024-04-29T21:04:53.243258Z",
     "start_time": "2024-04-29T21:04:53.207622Z"
    }
   },
   "outputs": [
    {
     "name": "stdout",
     "output_type": "stream",
     "text": [
      "<class 'pandas.core.frame.DataFrame'>\n"
     ]
    }
   ],
   "execution_count": 62
  },
  {
   "cell_type": "code",
   "source": [
    "data"
   ],
   "metadata": {
    "colab": {
     "base_uri": "https://localhost:8080/",
     "height": 461
    },
    "id": "nWdv8atKW3M9",
    "outputId": "6ed61247-09d6-41f7-c496-1b86fd4c3100",
    "ExecuteTime": {
     "end_time": "2024-04-29T21:04:53.269819Z",
     "start_time": "2024-04-29T21:04:53.259781Z"
    }
   },
   "outputs": [
    {
     "data": {
      "text/plain": [
       "       carat        cut color clarity  depth  table  price     x     y     z\n",
       "0       0.23      Ideal     E     SI2   61.5   55.0    326  3.95  3.98  2.43\n",
       "1       0.21    Premium     E     SI1   59.8   61.0    326  3.89  3.84  2.31\n",
       "2       0.23       Good     E     VS1   56.9   65.0    327  4.05  4.07  2.31\n",
       "3       0.29    Premium     I     VS2   62.4   58.0    334  4.20  4.23  2.63\n",
       "4       0.31       Good     J     SI2   63.3   58.0    335  4.34  4.35  2.75\n",
       "...      ...        ...   ...     ...    ...    ...    ...   ...   ...   ...\n",
       "53935   0.72      Ideal     D     SI1   60.8   57.0   2757  5.75  5.76  3.50\n",
       "53936   0.72       Good     D     SI1   63.1   55.0   2757  5.69  5.75  3.61\n",
       "53937   0.70  Very Good     D     SI1   62.8   60.0   2757  5.66  5.68  3.56\n",
       "53938   0.86    Premium     H     SI2   61.0   58.0   2757  6.15  6.12  3.74\n",
       "53939   0.75      Ideal     D     SI2   62.2   55.0   2757  5.83  5.87  3.64\n",
       "\n",
       "[53940 rows x 10 columns]"
      ],
      "text/html": [
       "<div>\n",
       "<style scoped>\n",
       "    .dataframe tbody tr th:only-of-type {\n",
       "        vertical-align: middle;\n",
       "    }\n",
       "\n",
       "    .dataframe tbody tr th {\n",
       "        vertical-align: top;\n",
       "    }\n",
       "\n",
       "    .dataframe thead th {\n",
       "        text-align: right;\n",
       "    }\n",
       "</style>\n",
       "<table border=\"1\" class=\"dataframe\">\n",
       "  <thead>\n",
       "    <tr style=\"text-align: right;\">\n",
       "      <th></th>\n",
       "      <th>carat</th>\n",
       "      <th>cut</th>\n",
       "      <th>color</th>\n",
       "      <th>clarity</th>\n",
       "      <th>depth</th>\n",
       "      <th>table</th>\n",
       "      <th>price</th>\n",
       "      <th>x</th>\n",
       "      <th>y</th>\n",
       "      <th>z</th>\n",
       "    </tr>\n",
       "  </thead>\n",
       "  <tbody>\n",
       "    <tr>\n",
       "      <th>0</th>\n",
       "      <td>0.23</td>\n",
       "      <td>Ideal</td>\n",
       "      <td>E</td>\n",
       "      <td>SI2</td>\n",
       "      <td>61.5</td>\n",
       "      <td>55.0</td>\n",
       "      <td>326</td>\n",
       "      <td>3.95</td>\n",
       "      <td>3.98</td>\n",
       "      <td>2.43</td>\n",
       "    </tr>\n",
       "    <tr>\n",
       "      <th>1</th>\n",
       "      <td>0.21</td>\n",
       "      <td>Premium</td>\n",
       "      <td>E</td>\n",
       "      <td>SI1</td>\n",
       "      <td>59.8</td>\n",
       "      <td>61.0</td>\n",
       "      <td>326</td>\n",
       "      <td>3.89</td>\n",
       "      <td>3.84</td>\n",
       "      <td>2.31</td>\n",
       "    </tr>\n",
       "    <tr>\n",
       "      <th>2</th>\n",
       "      <td>0.23</td>\n",
       "      <td>Good</td>\n",
       "      <td>E</td>\n",
       "      <td>VS1</td>\n",
       "      <td>56.9</td>\n",
       "      <td>65.0</td>\n",
       "      <td>327</td>\n",
       "      <td>4.05</td>\n",
       "      <td>4.07</td>\n",
       "      <td>2.31</td>\n",
       "    </tr>\n",
       "    <tr>\n",
       "      <th>3</th>\n",
       "      <td>0.29</td>\n",
       "      <td>Premium</td>\n",
       "      <td>I</td>\n",
       "      <td>VS2</td>\n",
       "      <td>62.4</td>\n",
       "      <td>58.0</td>\n",
       "      <td>334</td>\n",
       "      <td>4.20</td>\n",
       "      <td>4.23</td>\n",
       "      <td>2.63</td>\n",
       "    </tr>\n",
       "    <tr>\n",
       "      <th>4</th>\n",
       "      <td>0.31</td>\n",
       "      <td>Good</td>\n",
       "      <td>J</td>\n",
       "      <td>SI2</td>\n",
       "      <td>63.3</td>\n",
       "      <td>58.0</td>\n",
       "      <td>335</td>\n",
       "      <td>4.34</td>\n",
       "      <td>4.35</td>\n",
       "      <td>2.75</td>\n",
       "    </tr>\n",
       "    <tr>\n",
       "      <th>...</th>\n",
       "      <td>...</td>\n",
       "      <td>...</td>\n",
       "      <td>...</td>\n",
       "      <td>...</td>\n",
       "      <td>...</td>\n",
       "      <td>...</td>\n",
       "      <td>...</td>\n",
       "      <td>...</td>\n",
       "      <td>...</td>\n",
       "      <td>...</td>\n",
       "    </tr>\n",
       "    <tr>\n",
       "      <th>53935</th>\n",
       "      <td>0.72</td>\n",
       "      <td>Ideal</td>\n",
       "      <td>D</td>\n",
       "      <td>SI1</td>\n",
       "      <td>60.8</td>\n",
       "      <td>57.0</td>\n",
       "      <td>2757</td>\n",
       "      <td>5.75</td>\n",
       "      <td>5.76</td>\n",
       "      <td>3.50</td>\n",
       "    </tr>\n",
       "    <tr>\n",
       "      <th>53936</th>\n",
       "      <td>0.72</td>\n",
       "      <td>Good</td>\n",
       "      <td>D</td>\n",
       "      <td>SI1</td>\n",
       "      <td>63.1</td>\n",
       "      <td>55.0</td>\n",
       "      <td>2757</td>\n",
       "      <td>5.69</td>\n",
       "      <td>5.75</td>\n",
       "      <td>3.61</td>\n",
       "    </tr>\n",
       "    <tr>\n",
       "      <th>53937</th>\n",
       "      <td>0.70</td>\n",
       "      <td>Very Good</td>\n",
       "      <td>D</td>\n",
       "      <td>SI1</td>\n",
       "      <td>62.8</td>\n",
       "      <td>60.0</td>\n",
       "      <td>2757</td>\n",
       "      <td>5.66</td>\n",
       "      <td>5.68</td>\n",
       "      <td>3.56</td>\n",
       "    </tr>\n",
       "    <tr>\n",
       "      <th>53938</th>\n",
       "      <td>0.86</td>\n",
       "      <td>Premium</td>\n",
       "      <td>H</td>\n",
       "      <td>SI2</td>\n",
       "      <td>61.0</td>\n",
       "      <td>58.0</td>\n",
       "      <td>2757</td>\n",
       "      <td>6.15</td>\n",
       "      <td>6.12</td>\n",
       "      <td>3.74</td>\n",
       "    </tr>\n",
       "    <tr>\n",
       "      <th>53939</th>\n",
       "      <td>0.75</td>\n",
       "      <td>Ideal</td>\n",
       "      <td>D</td>\n",
       "      <td>SI2</td>\n",
       "      <td>62.2</td>\n",
       "      <td>55.0</td>\n",
       "      <td>2757</td>\n",
       "      <td>5.83</td>\n",
       "      <td>5.87</td>\n",
       "      <td>3.64</td>\n",
       "    </tr>\n",
       "  </tbody>\n",
       "</table>\n",
       "<p>53940 rows × 10 columns</p>\n",
       "</div>"
      ]
     },
     "execution_count": 63,
     "metadata": {},
     "output_type": "execute_result"
    }
   ],
   "execution_count": 63
  },
  {
   "cell_type": "markdown",
   "source": [
    "## На основі зміної depth сторимо нову depth_multiplied\n",
    "\n"
   ],
   "metadata": {
    "id": "yAhoYXwUYWK-"
   }
  },
  {
   "cell_type": "code",
   "source": [
    "quantitative_variable = \"depth\"\n",
    "multipliers = np.random.randint(1, 3, size=len(data))\n",
    "new_variable = (data[quantitative_variable] * multipliers)\n",
    "data.insert(data.columns.get_loc(quantitative_variable) + 1, f\"{quantitative_variable}_multiplied\", new_variable)\n"
   ],
   "metadata": {
    "id": "bhikNcqjXPWZ",
    "ExecuteTime": {
     "end_time": "2024-04-29T21:04:53.300359Z",
     "start_time": "2024-04-29T21:04:53.295293Z"
    }
   },
   "outputs": [],
   "execution_count": 64
  },
  {
   "cell_type": "code",
   "source": [
    "data = data[:4999]\n",
    "data"
   ],
   "metadata": {
    "colab": {
     "base_uri": "https://localhost:8080/",
     "height": 461
    },
    "id": "agaH3a0oX3XY",
    "outputId": "1a7a468f-2118-4d38-de24-834160f06ada",
    "ExecuteTime": {
     "end_time": "2024-04-29T21:04:53.330580Z",
     "start_time": "2024-04-29T21:04:53.313753Z"
    }
   },
   "outputs": [
    {
     "data": {
      "text/plain": [
       "      carat      cut color clarity  depth  depth_multiplied  table  price  \\\n",
       "0      0.23    Ideal     E     SI2   61.5             123.0   55.0    326   \n",
       "1      0.21  Premium     E     SI1   59.8              59.8   61.0    326   \n",
       "2      0.23     Good     E     VS1   56.9              56.9   65.0    327   \n",
       "3      0.29  Premium     I     VS2   62.4             124.8   58.0    334   \n",
       "4      0.31     Good     J     SI2   63.3             126.6   58.0    335   \n",
       "...     ...      ...   ...     ...    ...               ...    ...    ...   \n",
       "4994   0.90     Good     D     SI2   63.6             127.2   57.0   3740   \n",
       "4995   0.70    Ideal     F    VVS2   61.9              61.9   54.8   3741   \n",
       "4996   0.58    Ideal     D    VVS1   62.2              62.2   56.0   3741   \n",
       "4997   0.90     Good     I    VVS1   63.9              63.9   63.0   3741   \n",
       "4998   1.08     Good     J     SI2   63.2              63.2   59.0   3742   \n",
       "\n",
       "         x     y     z  \n",
       "0     3.95  3.98  2.43  \n",
       "1     3.89  3.84  2.31  \n",
       "2     4.05  4.07  2.31  \n",
       "3     4.20  4.23  2.63  \n",
       "4     4.34  4.35  2.75  \n",
       "...    ...   ...   ...  \n",
       "4994  6.07  6.03  3.85  \n",
       "4995  5.68  5.72  3.53  \n",
       "4996  5.34  5.36  3.33  \n",
       "4997  6.04  6.07  3.87  \n",
       "4998  6.40  6.57  4.10  \n",
       "\n",
       "[4999 rows x 11 columns]"
      ],
      "text/html": [
       "<div>\n",
       "<style scoped>\n",
       "    .dataframe tbody tr th:only-of-type {\n",
       "        vertical-align: middle;\n",
       "    }\n",
       "\n",
       "    .dataframe tbody tr th {\n",
       "        vertical-align: top;\n",
       "    }\n",
       "\n",
       "    .dataframe thead th {\n",
       "        text-align: right;\n",
       "    }\n",
       "</style>\n",
       "<table border=\"1\" class=\"dataframe\">\n",
       "  <thead>\n",
       "    <tr style=\"text-align: right;\">\n",
       "      <th></th>\n",
       "      <th>carat</th>\n",
       "      <th>cut</th>\n",
       "      <th>color</th>\n",
       "      <th>clarity</th>\n",
       "      <th>depth</th>\n",
       "      <th>depth_multiplied</th>\n",
       "      <th>table</th>\n",
       "      <th>price</th>\n",
       "      <th>x</th>\n",
       "      <th>y</th>\n",
       "      <th>z</th>\n",
       "    </tr>\n",
       "  </thead>\n",
       "  <tbody>\n",
       "    <tr>\n",
       "      <th>0</th>\n",
       "      <td>0.23</td>\n",
       "      <td>Ideal</td>\n",
       "      <td>E</td>\n",
       "      <td>SI2</td>\n",
       "      <td>61.5</td>\n",
       "      <td>123.0</td>\n",
       "      <td>55.0</td>\n",
       "      <td>326</td>\n",
       "      <td>3.95</td>\n",
       "      <td>3.98</td>\n",
       "      <td>2.43</td>\n",
       "    </tr>\n",
       "    <tr>\n",
       "      <th>1</th>\n",
       "      <td>0.21</td>\n",
       "      <td>Premium</td>\n",
       "      <td>E</td>\n",
       "      <td>SI1</td>\n",
       "      <td>59.8</td>\n",
       "      <td>59.8</td>\n",
       "      <td>61.0</td>\n",
       "      <td>326</td>\n",
       "      <td>3.89</td>\n",
       "      <td>3.84</td>\n",
       "      <td>2.31</td>\n",
       "    </tr>\n",
       "    <tr>\n",
       "      <th>2</th>\n",
       "      <td>0.23</td>\n",
       "      <td>Good</td>\n",
       "      <td>E</td>\n",
       "      <td>VS1</td>\n",
       "      <td>56.9</td>\n",
       "      <td>56.9</td>\n",
       "      <td>65.0</td>\n",
       "      <td>327</td>\n",
       "      <td>4.05</td>\n",
       "      <td>4.07</td>\n",
       "      <td>2.31</td>\n",
       "    </tr>\n",
       "    <tr>\n",
       "      <th>3</th>\n",
       "      <td>0.29</td>\n",
       "      <td>Premium</td>\n",
       "      <td>I</td>\n",
       "      <td>VS2</td>\n",
       "      <td>62.4</td>\n",
       "      <td>124.8</td>\n",
       "      <td>58.0</td>\n",
       "      <td>334</td>\n",
       "      <td>4.20</td>\n",
       "      <td>4.23</td>\n",
       "      <td>2.63</td>\n",
       "    </tr>\n",
       "    <tr>\n",
       "      <th>4</th>\n",
       "      <td>0.31</td>\n",
       "      <td>Good</td>\n",
       "      <td>J</td>\n",
       "      <td>SI2</td>\n",
       "      <td>63.3</td>\n",
       "      <td>126.6</td>\n",
       "      <td>58.0</td>\n",
       "      <td>335</td>\n",
       "      <td>4.34</td>\n",
       "      <td>4.35</td>\n",
       "      <td>2.75</td>\n",
       "    </tr>\n",
       "    <tr>\n",
       "      <th>...</th>\n",
       "      <td>...</td>\n",
       "      <td>...</td>\n",
       "      <td>...</td>\n",
       "      <td>...</td>\n",
       "      <td>...</td>\n",
       "      <td>...</td>\n",
       "      <td>...</td>\n",
       "      <td>...</td>\n",
       "      <td>...</td>\n",
       "      <td>...</td>\n",
       "      <td>...</td>\n",
       "    </tr>\n",
       "    <tr>\n",
       "      <th>4994</th>\n",
       "      <td>0.90</td>\n",
       "      <td>Good</td>\n",
       "      <td>D</td>\n",
       "      <td>SI2</td>\n",
       "      <td>63.6</td>\n",
       "      <td>127.2</td>\n",
       "      <td>57.0</td>\n",
       "      <td>3740</td>\n",
       "      <td>6.07</td>\n",
       "      <td>6.03</td>\n",
       "      <td>3.85</td>\n",
       "    </tr>\n",
       "    <tr>\n",
       "      <th>4995</th>\n",
       "      <td>0.70</td>\n",
       "      <td>Ideal</td>\n",
       "      <td>F</td>\n",
       "      <td>VVS2</td>\n",
       "      <td>61.9</td>\n",
       "      <td>61.9</td>\n",
       "      <td>54.8</td>\n",
       "      <td>3741</td>\n",
       "      <td>5.68</td>\n",
       "      <td>5.72</td>\n",
       "      <td>3.53</td>\n",
       "    </tr>\n",
       "    <tr>\n",
       "      <th>4996</th>\n",
       "      <td>0.58</td>\n",
       "      <td>Ideal</td>\n",
       "      <td>D</td>\n",
       "      <td>VVS1</td>\n",
       "      <td>62.2</td>\n",
       "      <td>62.2</td>\n",
       "      <td>56.0</td>\n",
       "      <td>3741</td>\n",
       "      <td>5.34</td>\n",
       "      <td>5.36</td>\n",
       "      <td>3.33</td>\n",
       "    </tr>\n",
       "    <tr>\n",
       "      <th>4997</th>\n",
       "      <td>0.90</td>\n",
       "      <td>Good</td>\n",
       "      <td>I</td>\n",
       "      <td>VVS1</td>\n",
       "      <td>63.9</td>\n",
       "      <td>63.9</td>\n",
       "      <td>63.0</td>\n",
       "      <td>3741</td>\n",
       "      <td>6.04</td>\n",
       "      <td>6.07</td>\n",
       "      <td>3.87</td>\n",
       "    </tr>\n",
       "    <tr>\n",
       "      <th>4998</th>\n",
       "      <td>1.08</td>\n",
       "      <td>Good</td>\n",
       "      <td>J</td>\n",
       "      <td>SI2</td>\n",
       "      <td>63.2</td>\n",
       "      <td>63.2</td>\n",
       "      <td>59.0</td>\n",
       "      <td>3742</td>\n",
       "      <td>6.40</td>\n",
       "      <td>6.57</td>\n",
       "      <td>4.10</td>\n",
       "    </tr>\n",
       "  </tbody>\n",
       "</table>\n",
       "<p>4999 rows × 11 columns</p>\n",
       "</div>"
      ]
     },
     "execution_count": 65,
     "metadata": {},
     "output_type": "execute_result"
    }
   ],
   "execution_count": 65
  },
  {
   "cell_type": "markdown",
   "source": "## Оберемо категоріальну зміну cut\t- де I = Ideal, P = Premium , а числовою зміною буде depth",
   "metadata": {
    "id": "QkQtxWY-ZMEW"
   }
  },
  {
   "cell_type": "code",
   "source": [
    "group_I = data[data['cut'] == 'Ideal']\n",
    "group_P = data[data['cut'] == 'Premium']"
   ],
   "metadata": {
    "id": "WyfHi4sdZZgk",
    "ExecuteTime": {
     "end_time": "2024-04-29T21:04:53.357282Z",
     "start_time": "2024-04-29T21:04:53.351918Z"
    }
   },
   "outputs": [],
   "execution_count": 66
  },
  {
   "cell_type": "markdown",
   "source": "## Використаємо тест Шапіро-Вілка для перевірки на нормальність",
   "metadata": {
    "id": "syKp3qsXzuPa"
   }
  },
  {
   "cell_type": "code",
   "source": [
    "stat_I, p_I = shapiro(group_I['depth'])\n",
    "print(\"Результат перевірки нормальності для групи I:\")\n",
    "print(\"Statistic:\", stat_I)\n",
    "print(\"p-value:\", p_I)\n",
    "if p_I < 0.05:\n",
    "    print(\"Розподіл для групи I не є нормальним.\")\n",
    "else:\n",
    "    print(\"Розподіл для групи I є нормальним.\")\n",
    "\n",
    "stat_P, p_P = shapiro(group_P['depth'])\n",
    "print(\"\\nРезультат перевірки нормальності для групи P:\")\n",
    "print(\"Statistic:\", stat_P)\n",
    "print(\"p-value:\", p_P)\n",
    "if p_P < 0.05:\n",
    "    print(\"Розподіл для групи P не є нормальним.\")\n",
    "else:\n",
    "    print(\"Розподіл для групи P є нормальним.\")\n"
   ],
   "metadata": {
    "colab": {
     "base_uri": "https://localhost:8080/"
    },
    "id": "4vOEzbfeiDvz",
    "outputId": "72c8289f-35ba-4066-d272-47acda1116de",
    "ExecuteTime": {
     "end_time": "2024-04-29T21:04:53.385773Z",
     "start_time": "2024-04-29T21:04:53.379980Z"
    }
   },
   "outputs": [
    {
     "name": "stdout",
     "output_type": "stream",
     "text": [
      "Результат перевірки нормальності для групи I:\n",
      "Statistic: 0.9693695306777954\n",
      "p-value: 2.2205955642139836e-19\n",
      "Розподіл для групи I не є нормальним.\n",
      "\n",
      "Результат перевірки нормальності для групи P:\n",
      "Statistic: 0.9475604891777039\n",
      "p-value: 2.8089233804953203e-19\n",
      "Розподіл для групи P не є нормальним.\n"
     ]
    }
   ],
   "execution_count": 67
  },
  {
   "cell_type": "markdown",
   "source": "## Тепер розраховуємо статистичні дані для обох груп\n",
   "metadata": {
    "id": "YyS45_kI0wfZ"
   }
  },
  {
   "cell_type": "code",
   "source": [
    "count_I = len(group_I)\n",
    "mean_I = group_I['depth'].mean()\n",
    "std_dev_I = group_I['depth'].std()\n",
    "\n",
    "count_P = len(group_P)\n",
    "mean_P = group_P['depth'].mean()\n",
    "std_dev_P = group_P['depth'].std()\n",
    "\n",
    "print(\"Характеристика для групи I:\")\n",
    "print(\"Кількість спостережень:\", count_I)\n",
    "print(\"Середнє значення:\", mean_I)\n",
    "print(\"Стандартне відхилення:\", std_dev_I)\n",
    "\n",
    "print(\"\\nХарактеристика для групи P:\")\n",
    "print(\"Кількість спостережень:\", count_P)\n",
    "print(\"Середнє значення:\", mean_P)\n",
    "print(\"Стандартне відхилення:\", std_dev_P)\n"
   ],
   "metadata": {
    "colab": {
     "base_uri": "https://localhost:8080/"
    },
    "id": "wbgypWIwiorl",
    "outputId": "cb6c85ca-b393-4ace-d28e-639ec61fce51",
    "ExecuteTime": {
     "end_time": "2024-04-29T21:04:53.550842Z",
     "start_time": "2024-04-29T21:04:53.544231Z"
    }
   },
   "outputs": [
    {
     "name": "stdout",
     "output_type": "stream",
     "text": [
      "Характеристика для групи I:\n",
      "Кількість спостережень: 1845\n",
      "Середнє значення: 61.66037940379403\n",
      "Стандартне відхилення: 0.6917446797494603\n",
      "\n",
      "Характеристика для групи P:\n",
      "Кількість спостережень: 1094\n",
      "Середнє значення: 61.234186471663634\n",
      "Стандартне відхилення: 1.2329130130207566\n"
     ]
    }
   ],
   "execution_count": 68
  },
  {
   "cell_type": "markdown",
   "source": [
    "Тепер зображуємо ящичкову діаграму для даних"
   ],
   "metadata": {
    "id": "zDfVzyR60_s7"
   }
  },
  {
   "cell_type": "code",
   "source": [
    "values_I = group_I['depth']\n",
    "values_P = group_P['depth']\n",
    "plt.figure(figsize=(10, 6))\n",
    "plt.boxplot([values_I, values_P], labels=['Ідеальний', 'Преміальний'], patch_artist=True)\n",
    "plt.xlabel('Виріз', fontsize=14)\n",
    "plt.ylabel('Значення', fontsize=14)\n",
    "plt.show()\n"
   ],
   "metadata": {
    "colab": {
     "base_uri": "https://localhost:8080/",
     "height": 547
    },
    "id": "7ia-oZc3is92",
    "outputId": "facfa071-21e4-4aaa-fa04-a5def5595bd3",
    "ExecuteTime": {
     "end_time": "2024-04-29T21:04:53.723553Z",
     "start_time": "2024-04-29T21:04:53.632051Z"
    }
   },
   "outputs": [
    {
     "data": {
      "text/plain": [
       "<Figure size 1000x600 with 1 Axes>"
      ],
      "image/png": "[encoded data removed]"
     },
     "metadata": {},
     "output_type": "display_data"
    }
   ],
   "execution_count": 69
  },
  {
   "cell_type": "markdown",
   "source": "#### На діаграмі можна побачити медіану - позначено помаранчевою лінією, викиди - маленькі кружечки , вони показують дані що відхиляються від основної маси даних,також можна по графіку приблизно зрозуміти чи є розподіл нормальним дивлячись на симетричність ящичку та довжину вус.",
   "metadata": {
    "id": "0kTKEGep1Sqt"
   }
  },
  {
   "cell_type": "markdown",
   "source": [
    "#### Тепер сформулюємо гіпотези та за допомогою критерію Стьюдента рівності середніх для незалежний виборок визначимо правильну гіпотезу\n",
    "\n",
    "##### Нульова гіпотеза (H0):Значення глибини для ідеальних та преміальних вирізів.\n",
    "\n",
    "##### Альтернативна гіпотеза (H1):Значення глибини для ідеальних та преміальних вирізів."
   ],
   "metadata": {
    "id": "ZeFuoELFkT-s"
   }
  },
  {
   "cell_type": "code",
   "source": [
    "statistic, p_value = ttest_ind(group_I['depth'], group_P['depth'])\n",
    "print(\"Statistic:\", statistic)\n",
    "print(\"p-value:\", p_value)\n",
    "\n",
    "alpha = 0.05\n",
    "if p_value < alpha:\n",
    "    print(\"\\nІснує різниця між групами. Відхиляємо нульову гіпотезу.\")\n",
    "else:\n",
    "    print(\"\\nНе ісує різниці між групами. Нульова гіпотеза не відхиляється.\")"
   ],
   "metadata": {
    "colab": {
     "base_uri": "https://localhost:8080/"
    },
    "id": "zkw2_qBtkXKU",
    "outputId": "b0f6fe30-436a-4b88-84e1-77b0bd96fc9d",
    "ExecuteTime": {
     "end_time": "2024-04-29T21:04:53.825641Z",
     "start_time": "2024-04-29T21:04:53.819065Z"
    }
   },
   "outputs": [
    {
     "name": "stdout",
     "output_type": "stream",
     "text": [
      "Statistic: 12.001139778719756\n",
      "p-value: 1.984437815065124e-32\n",
      "\n",
      "Існує різниця між групами. Відхиляємо нульову гіпотезу.\n"
     ]
    }
   ],
   "execution_count": 70
  },
  {
   "cell_type": "markdown",
   "source": "З даних бачимо що є  залежність між типом пухлини та її розміром",
   "metadata": {
    "id": "raNsYI7y2lI4"
   }
  },
  {
   "cell_type": "markdown",
   "source": "### Тепер для 4 завдання виконаємо те саме тільки у нас будуть залежні вибірки а саме depth та depth_multiplied",
   "metadata": {
    "id": "3ZuX88_q3Ynz"
   }
  },
  {
   "cell_type": "code",
   "source": [
    "original_variable = data['depth']\n",
    "generated_variable = data['depth_multiplied']"
   ],
   "metadata": {
    "id": "5fH1_Mnpl75t",
    "ExecuteTime": {
     "end_time": "2024-04-29T21:04:53.895149Z",
     "start_time": "2024-04-29T21:04:53.891953Z"
    }
   },
   "outputs": [],
   "execution_count": 71
  },
  {
   "cell_type": "markdown",
   "source": "Тепер знову перевірим дані за допомогою тесту Шапіро-Вілка на нормальність",
   "metadata": {
    "id": "GZ_YWM1v39XT"
   }
  },
  {
   "cell_type": "code",
   "source": [
    "statistic_original, p_value_original = shapiro(original_variable)\n",
    "print(\"Statistic:\", statistic_original)\n",
    "print(\"p-value:\", p_value_original)\n",
    "if p_value_original > 0.05:\n",
    "    print(\"Розподіл є нормальним.\")\n",
    "else:\n",
    "    print(\"Розподіл не є нормальним.\")\n",
    "\n",
    "statistic_generated, p_value_generated = shapiro(generated_variable)\n",
    "print(\"Statistic:\", statistic_generated)\n",
    "print(\"p-value:\", p_value_generated)\n",
    "if p_value_generated > 0.05:\n",
    "    print(\"Розподіл є нормальним.\")\n",
    "else:\n",
    "    print(\"Розподіл не є нормальним.\")\n"
   ],
   "metadata": {
    "colab": {
     "base_uri": "https://localhost:8080/"
    },
    "id": "ck_oa2TBmygT",
    "outputId": "28c0e7c7-1b1d-4318-ef88-f469fcef31ed",
    "ExecuteTime": {
     "end_time": "2024-04-29T21:04:53.998256Z",
     "start_time": "2024-04-29T21:04:53.991194Z"
    }
   },
   "outputs": [
    {
     "name": "stdout",
     "output_type": "stream",
     "text": [
      "Statistic: 0.9541640877723694\n",
      "p-value: 5.500174496773401e-37\n",
      "Розподіл не є нормальним.\n",
      "Statistic: 0.7055256962776184\n",
      "p-value: 0.0\n",
      "Розподіл не є нормальним.\n"
     ]
    }
   ],
   "execution_count": 72
  },
  {
   "cell_type": "markdown",
   "source": "Бачимо що обидва розподіла не мають нормального розподілу",
   "metadata": {
    "id": "Yk1H9ozR4dGD"
   }
  },
  {
   "cell_type": "markdown",
   "source": "### Тепер обраховуємо статистичні значення для даних",
   "metadata": {
    "id": "c5XkBVsg5DkP"
   }
  },
  {
   "cell_type": "code",
   "source": [
    "count_original = original_variable.count()\n",
    "count_generated = generated_variable.count()\n",
    "mean_original = original_variable.mean()\n",
    "std_dev_original = original_variable.std()\n",
    "mean_generated = generated_variable.mean()\n",
    "std_dev_generated = generated_variable.std()\n",
    "\n",
    "print(\"Статистичні характеристики для кількісної змінної з оригінального дата сету:\")\n",
    "print(\"Кількість спостережень:\", count_original)\n",
    "print(\"Середнє значення:\", mean_original)\n",
    "print(\"Стандартне відхилення:\", std_dev_original)\n",
    "\n",
    "print(\"\\nСтатистичні характеристики для згенерованої кількісної змінної:\")\n",
    "print(\"Кількість спостережень:\", count_generated)\n",
    "print(\"Середнє значення:\", mean_generated)\n",
    "print(\"Стандартне відхилення:\", std_dev_generated)\n"
   ],
   "metadata": {
    "colab": {
     "base_uri": "https://localhost:8080/"
    },
    "id": "nCogzq4mm56x",
    "outputId": "4313545a-ef8e-4ce5-b00f-56bff19fa81f",
    "ExecuteTime": {
     "end_time": "2024-04-29T21:04:54.081646Z",
     "start_time": "2024-04-29T21:04:54.075130Z"
    }
   },
   "outputs": [
    {
     "name": "stdout",
     "output_type": "stream",
     "text": [
      "Статистичні характеристики для кількісної змінної з оригінального дата сету:\n",
      "Кількість спостережень: 4999\n",
      "Середнє значення: 61.85505101020205\n",
      "Стандартне відхилення: 1.6449596801557826\n",
      "\n",
      "Статистичні характеристики для згенерованої кількісної змінної:\n",
      "Кількість спостережень: 4999\n",
      "Середнє значення: 92.72710542108422\n",
      "Стандартне відхилення: 31.07799382397676\n"
     ]
    }
   ],
   "execution_count": 73
  },
  {
   "cell_type": "code",
   "source": [
    "df = pd.DataFrame({\n",
    "    'group': ['Оригінальна змінна'] * len(original_variable) + ['Згенерована змінна'] * len(generated_variable),\n",
    "    'value': pd.concat([original_variable, generated_variable])\n",
    "})\n",
    "\n",
    "plt.figure(figsize=(5, 6))\n",
    "sns.boxplot(x='group', y='value', data=df, color='purple', width=0.4)\n",
    "plt.title('Порівняння розподілу оригінальної та згенерованої зміно')\n",
    "plt.xlabel('Змінні')\n",
    "plt.ylabel('Значення змінної')\n",
    "plt.xticks([0, 1], ['Оригінальна', 'Згенерована'])\n",
    "plt.show()"
   ],
   "metadata": {
    "colab": {
     "base_uri": "https://localhost:8080/",
     "height": 564
    },
    "id": "in7lcFiEnUF-",
    "outputId": "888ead27-9d78-42b7-82a6-5754d4a28d42",
    "ExecuteTime": {
     "end_time": "2024-04-29T21:04:54.322477Z",
     "start_time": "2024-04-29T21:04:54.139436Z"
    }
   },
   "outputs": [
    {
     "data": {
      "text/plain": [
       "<Figure size 500x600 with 1 Axes>"
      ],
      "image/png": "[encoded data removed]"
     },
     "metadata": {},
     "output_type": "display_data"
    }
   ],
   "execution_count": 74
  },
  {
   "cell_type": "markdown",
   "source": "З діаграми видно до прикладу що у оригінальної вибірки доволі велика кількість викидів,також тут наочно видно що у вибірок не має нормального розподілу",
   "metadata": {
    "id": "yLdl81vt6IYr"
   }
  },
  {
   "cell_type": "markdown",
   "source": [
    "### Сформуємо гіпотези та перевіримо їх за допомогою парного критерію Стьюдента рівності середніх\n",
    "\n",
    "##### Нульова гіпотеза (H0): Середні значення оригінальної кількісної змінної та згенерованої змінної рівні.\n",
    "\n",
    "##### Альтернативна гіпотеза (H1): Середні значення оригінальної кількісної змінної та згенерованої змінної відрізняються."
   ],
   "metadata": {
    "id": "cdPpsM5yo2AZ"
   }
  },
  {
   "cell_type": "code",
   "source": [
    "paired_data = pd.DataFrame(\n",
    "    {'Original': original_variable, 'Generated': generated_variable})\n"
   ],
   "metadata": {
    "id": "Y6txIZIQo_bJ",
    "ExecuteTime": {
     "end_time": "2024-04-29T21:04:54.327753Z",
     "start_time": "2024-04-29T21:04:54.324485Z"
    }
   },
   "outputs": [],
   "execution_count": 75
  },
  {
   "cell_type": "code",
   "source": [
    "statistic, p_value = ttest_rel(paired_data['Original'], paired_data['Generated'])\n",
    "\n",
    "print(\"Statistic:\", statistic)\n",
    "print(\"p-value:\", p_value)\n",
    "alpha = 0.05\n",
    "if p_value < alpha:\n",
    "    print(\"\\nВідхиляємо нульову гіпотезу. Є статистично значуща різниця між оригінальною та згенерованою змінною.\")\n",
    "else:\n",
    "    print(\n",
    "        \"\\nНе відхиляємо нульову гіпотезу. Немає статистично значущої різниці між оригінальною та згенерованою змінною.\")\n"
   ],
   "metadata": {
    "colab": {
     "base_uri": "https://localhost:8080/"
    },
    "id": "KsGW_P_eo3fK",
    "outputId": "1d447bd9-9e4b-4a1a-f236-a1c024856a7b",
    "ExecuteTime": {
     "end_time": "2024-04-29T21:04:54.470546Z",
     "start_time": "2024-04-29T21:04:54.463591Z"
    }
   },
   "outputs": [
    {
     "name": "stdout",
     "output_type": "stream",
     "text": [
      "Statistic: -70.49086080623246\n",
      "p-value: 0.0\n",
      "\n",
      "Відхиляємо нульову гіпотезу. Є статистично значуща різниця між оригінальною та згенерованою змінною.\n"
     ]
    }
   ],
   "execution_count": 76
  }
 ]
}
