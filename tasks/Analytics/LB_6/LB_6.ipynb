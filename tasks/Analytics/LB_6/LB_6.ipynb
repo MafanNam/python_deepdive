{
 "cells": [
  {
   "cell_type": "markdown",
   "id": "4432eb05",
   "metadata": {},
   "source": [
    "## Обробка та аналіз біомедичних даних\n",
    "### БС-24\n",
    "### Манзик Максим\n",
    "## Лабораторна робота №6"
   ]
  },
  {
   "cell_type": "markdown",
   "id": "1f5e141d",
   "metadata": {},
   "source": [
    "### Дисперсійний аналіз"
   ]
  },
  {
   "cell_type": "markdown",
   "id": "5ce21a39",
   "metadata": {},
   "source": "Для виконання роботи було обрано датасет, що містить інформацію, зібрану з онлайн-платформи про шахмати. Він охоплює різні атрибути, переможцем, оціненням, ходами тощо."
  },
  {
   "metadata": {
    "ExecuteTime": {
     "end_time": "2024-04-30T13:21:31.214939Z",
     "start_time": "2024-04-30T13:21:31.210556Z"
    }
   },
   "cell_type": "code",
   "source": [
    "import pandas as pd\n",
    "import matplotlib.pyplot as plt"
   ],
   "id": "457220a7587e845b",
   "outputs": [],
   "execution_count": 51
  },
  {
   "cell_type": "code",
   "id": "8e3fc564",
   "metadata": {
    "ExecuteTime": {
     "end_time": "2024-04-30T13:21:31.577734Z",
     "start_time": "2024-04-30T13:21:31.371438Z"
    }
   },
   "source": [
    "df = pd.read_csv(r\"C:\\Users\\kepkp\\PycharmProjects\\Study\\python_deepdive\\tasks\\Analytics\\LB_6\\games.csv\")[:500]\n",
    "print(df)"
   ],
   "outputs": [
    {
     "name": "stdout",
     "output_type": "stream",
     "text": [
      "           id  rated    created_at  last_move_at  turns victory_status winner  \\\n",
      "0    TZJHLljE  False  1.504210e+12  1.504210e+12     13      outoftime  white   \n",
      "1    l1NXvwaE   True  1.504130e+12  1.504130e+12     16         resign  black   \n",
      "2    mIICvQHh   True  1.504130e+12  1.504130e+12     61           mate  white   \n",
      "3    kWKvrqYL   True  1.504110e+12  1.504110e+12     61           mate  white   \n",
      "4    9tXo1AUZ   True  1.504030e+12  1.504030e+12     95           mate  white   \n",
      "..        ...    ...           ...           ...    ...            ...    ...   \n",
      "495  lm8AKQIn   True  1.502730e+12  1.502730e+12    120           mate  black   \n",
      "496  uiJ5thnm   True  1.502730e+12  1.502730e+12     41           mate  white   \n",
      "497  GHlw6n8z   True  1.504210e+12  1.504220e+12     42         resign  black   \n",
      "498  yLhzi5Dd   True  1.503470e+12  1.503470e+12     63         resign  white   \n",
      "499  brPQOL4Y  False  1.503360e+12  1.503360e+12     23         resign  black   \n",
      "\n",
      "    increment_code       white_id  white_rating      black_id  black_rating  \\\n",
      "0             15+2       bourgris          1500          a-00          1191   \n",
      "1             5+10           a-00          1322     skinnerua          1261   \n",
      "2             5+10         ischia          1496          a-00          1500   \n",
      "3             20+0  daniamurashov          1439  adivanov2009          1454   \n",
      "4             30+3      nik221107          1523  adivanov2009          1469   \n",
      "..             ...            ...           ...           ...           ...   \n",
      "495            5+5  fischerdipper          1746        koljan          1712   \n",
      "496            5+5  fischerdipper          1741   funracer_at          1496   \n",
      "497          15+15        tensors          1295    blackhat46          1240   \n",
      "498           15+2   fabioamsouza          1430       tensors          1302   \n",
      "499           15+2        tensors          1302    piedperson          1248   \n",
      "\n",
      "                                                 moves opening_eco  \\\n",
      "0    d4 d5 c4 c6 cxd5 e6 dxe6 fxe6 Nf3 Bb4+ Nc3 Ba5...         D10   \n",
      "1    d4 Nc6 e4 e5 f4 f6 dxe5 fxe5 fxe5 Nxe5 Qd4 Nc6...         B00   \n",
      "2    e4 e5 d3 d6 Be3 c6 Be2 b5 Nd2 a5 a4 c5 axb5 Nc...         C20   \n",
      "3    d4 d5 Nf3 Bf5 Nc3 Nf6 Bf4 Ng4 e3 Nc6 Be2 Qd7 O...         D02   \n",
      "4    e4 e5 Nf3 d6 d4 Nc6 d5 Nb4 a3 Na6 Nc3 Be7 b4 N...         C41   \n",
      "..                                                 ...         ...   \n",
      "495  c4 c6 d3 e6 Nf3 d5 cxd5 exd5 Nc3 Be6 e3 Nf6 Be...         A11   \n",
      "496  c4 e6 d3 Bc5 Nf3 a6 Nc3 h6 e3 Nf6 d4 Ba7 Be2 O...         A13   \n",
      "497  d4 d5 c4 Nf6 Nf3 c6 Bg5 e6 e3 Be7 Bd3 Nbd7 O-O...         D11   \n",
      "498  d4 d5 Nf3 Nf6 Bg5 Nc6 Bxf6 exf6 Qd3 Bd6 Qe3+ Q...         D03   \n",
      "499  d4 d5 c4 Nf6 cxd5 Nxd5 Nc3 Nc6 Nf3 Bf5 e4 Nxc3...         D06   \n",
      "\n",
      "                                    opening_name  opening_ply  \n",
      "0               Slav Defense: Exchange Variation            5  \n",
      "1         Nimzowitsch Defense: Kennedy Variation            4  \n",
      "2          King's Pawn Game: Leonardis Variation            3  \n",
      "3         Queen's Pawn Game: Zukertort Variation            3  \n",
      "4                               Philidor Defense            5  \n",
      "..                                           ...          ...  \n",
      "495  English Opening: Caro-Kann Defensive System            2  \n",
      "496           English Opening: Agincourt Defense            2  \n",
      "497                   Slav Defense: Bonet Gambit            7  \n",
      "498              Queen's Pawn Game: Torre Attack            5  \n",
      "499     Queen's Gambit Refused: Marshall Defense            4  \n",
      "\n",
      "[500 rows x 16 columns]\n"
     ]
    }
   ],
   "execution_count": 52
  },
  {
   "cell_type": "markdown",
   "id": "84852263",
   "metadata": {},
   "source": "Будемо використовувати змінну, що характеризує оцінку, виграш, а в якості кількісної змінної буде змінна що показує дані про кількість кроків."
  },
  {
   "cell_type": "code",
   "id": "ff998e45",
   "metadata": {
    "ExecuteTime": {
     "end_time": "2024-04-30T13:21:31.596939Z",
     "start_time": "2024-04-30T13:21:31.579753Z"
    }
   },
   "source": [
    "true = df.dropna(subset=['turns']).loc[df['rated'] == True, 'turns']\n",
    "false = df.dropna(subset=['turns']).loc[df['rated'] == False, 'turns']\n",
    "\n",
    "white = df.dropna(subset=['turns']).loc[df['winner'] == 'white', 'turns']\n",
    "black = df.dropna(subset=['turns']).loc[df['winner'] == 'black', 'turns']\n",
    "\n",
    "true_white = df.loc[(df['winner'] == 'white') & (df['rated'] == True), 'turns']\n",
    "true_black = df.loc[(df['winner'] == 'black') & (df['rated'] == False), 'turns']\n",
    "false_white = df.loc[(df['winner'] == 'white') & (df['rated'] == True), 'turns']\n",
    "false_black = df.loc[(df['winner'] == 'black') & (df['rated'] == False), 'turns']"
   ],
   "outputs": [],
   "execution_count": 53
  },
  {
   "cell_type": "markdown",
   "id": "fcc45c09",
   "metadata": {},
   "source": [
    "Перевіримо розподіли на нормальність. Використаємо тест Шапіро-Вілка. Сформулюємо гіпотези\n",
    "\n",
    "Н0 - Вибірка \"true\" має нормальний розподіл\n",
    "Н1 - Вибірка \"true\" має розподіл, відмінний від нормального"
   ]
  },
  {
   "cell_type": "code",
   "id": "b432e92e",
   "metadata": {
    "ExecuteTime": {
     "end_time": "2024-04-30T13:21:31.603738Z",
     "start_time": "2024-04-30T13:21:31.597956Z"
    }
   },
   "source": [
    "from scipy import stats\n",
    "\n",
    "W_statistic, p_value = stats.shapiro(true)\n",
    "print(f'Statistic: {W_statistic}')\n",
    "print(f'P-value: {p_value}')"
   ],
   "outputs": [
    {
     "name": "stdout",
     "output_type": "stream",
     "text": [
      "Statistic: 0.9444950819015503\n",
      "P-value: 2.918413427588362e-11\n"
     ]
    }
   ],
   "execution_count": 54
  },
  {
   "cell_type": "markdown",
   "id": "00a31f67",
   "metadata": {},
   "source": [
    "Отримали р-значення  за 0.05, отже вибірка розподілена не за нормальним законом.\n",
    "\n",
    "Н0 - Вибірка \"false\" має нормальний розподіл\n",
    "Н1 - Вибірка \"false\" має розподіл, відмінний від нормального "
   ]
  },
  {
   "cell_type": "code",
   "id": "a414b1a9",
   "metadata": {
    "ExecuteTime": {
     "end_time": "2024-04-30T13:21:31.610670Z",
     "start_time": "2024-04-30T13:21:31.605279Z"
    }
   },
   "source": [
    "W_statistic, p_value = stats.shapiro(false)\n",
    "print(f'Statistic: {W_statistic}')\n",
    "print(f'P-value: {p_value}')"
   ],
   "outputs": [
    {
     "name": "stdout",
     "output_type": "stream",
     "text": [
      "Statistic: 0.9400364756584167\n",
      "P-value: 0.00042699306504800916\n"
     ]
    }
   ],
   "execution_count": 55
  },
  {
   "cell_type": "markdown",
   "id": "c5515aaa",
   "metadata": {},
   "source": [
    "Отримали р-значення менше за 0.05, отже відкидаємо нульову гіпотезу і робимо висновок, що дані розподілені за законом, відмінним від нормального.\n",
    "\n",
    "Н0 - Вибірка \"white\" має нормальний розподіл\n",
    "Н1 - Вибірка \"white\" має розподіл, відмінний від нормального "
   ]
  },
  {
   "cell_type": "code",
   "id": "8292fe4e",
   "metadata": {
    "ExecuteTime": {
     "end_time": "2024-04-30T13:21:31.617814Z",
     "start_time": "2024-04-30T13:21:31.612682Z"
    }
   },
   "source": [
    "W_statistic, p_value = stats.shapiro(white)\n",
    "print(f'Statistic: {W_statistic}')\n",
    "print(f'P-value: {p_value}')"
   ],
   "outputs": [
    {
     "name": "stdout",
     "output_type": "stream",
     "text": [
      "Statistic: 0.9472529888153076\n",
      "P-value: 1.113982719402884e-07\n"
     ]
    }
   ],
   "execution_count": 56
  },
  {
   "cell_type": "markdown",
   "id": "743760e3",
   "metadata": {},
   "source": [
    "Отримали р-значення менше за 0.05, отже відкидаємо нульову гіпотезу і робимо висновок, що дані розподілені за законом, відмінним від нормального.\n",
    "\n",
    "Н0 - Вибірка \"black\" має нормальний розподіл\n",
    "Н1 - Вибірка \"black\" має розподіл, відмінний від нормального "
   ]
  },
  {
   "cell_type": "code",
   "id": "8dec4d90",
   "metadata": {
    "ExecuteTime": {
     "end_time": "2024-04-30T13:21:31.646189Z",
     "start_time": "2024-04-30T13:21:31.641322Z"
    }
   },
   "source": [
    "W_statistic, p_value = stats.shapiro(black)\n",
    "print(f'Statistic: {W_statistic}')\n",
    "print(f'P-value: {p_value}')"
   ],
   "outputs": [
    {
     "name": "stdout",
     "output_type": "stream",
     "text": [
      "Statistic: 0.9481273889541626\n",
      "P-value: 2.663755935827794e-07\n"
     ]
    }
   ],
   "execution_count": 57
  },
  {
   "cell_type": "markdown",
   "id": "8164745e",
   "metadata": {},
   "source": [
    "Отримали р-значення менше за 0.05, отже відкидаємо нульову гіпотезу і робимо висновок, що дані розподілені за законом, відмінним від нормального.\n",
    "\n",
    "Н0 - Вибірка \"true_white\" має нормальний розподіл\n",
    "Н1 - Вибірка \"true_white\" має розподіл, відмінний від нормального "
   ]
  },
  {
   "cell_type": "code",
   "id": "a46d4c0d",
   "metadata": {
    "ExecuteTime": {
     "end_time": "2024-04-30T13:21:31.691764Z",
     "start_time": "2024-04-30T13:21:31.686220Z"
    }
   },
   "source": [
    "W_statistic, p_value = stats.shapiro(true_white)\n",
    "print(f'Statistic: {W_statistic}')\n",
    "print(f'P-value: {p_value}')"
   ],
   "outputs": [
    {
     "name": "stdout",
     "output_type": "stream",
     "text": [
      "Statistic: 0.9480812549591064\n",
      "P-value: 1.3079592235953896e-06\n"
     ]
    }
   ],
   "execution_count": 58
  },
  {
   "cell_type": "markdown",
   "id": "883cde6e",
   "metadata": {},
   "source": [
    "Отримали р-значення менше за 0.05, отже відкидаємо нульову гіпотезу і робимо висновок, що дані розподілені за законом, відмінним від нормального.\n",
    "\n",
    "Н0 - Вибірка \"true_black\" має нормальний розподіл\n",
    "Н1 - Вибірка \"true_black\" має розподіл, відмінний від нормального "
   ]
  },
  {
   "cell_type": "code",
   "id": "84417be5",
   "metadata": {
    "ExecuteTime": {
     "end_time": "2024-04-30T13:21:31.855826Z",
     "start_time": "2024-04-30T13:21:31.848918Z"
    }
   },
   "source": [
    "W_statistic, p_value = stats.shapiro(true_black)\n",
    "print(f'Statistic: {W_statistic}')\n",
    "print(f'P-value: {p_value}')"
   ],
   "outputs": [
    {
     "name": "stdout",
     "output_type": "stream",
     "text": [
      "Statistic: 0.9400525093078613\n",
      "P-value: 0.026094947010278702\n"
     ]
    }
   ],
   "execution_count": 59
  },
  {
   "cell_type": "markdown",
   "id": "720dafae",
   "metadata": {},
   "source": [
    "Отримали р-значення менше за 0.05, отже відкидаємо нульову гіпотезу і робимо висновок, що дані розподілені за законом, відмінним від нормального.\n",
    "\n",
    "Н0 - Вибірка \"false_white\" має нормальний розподіл\n",
    "Н1 - Вибірка \"false_white\" має розподіл, відмінний від нормального "
   ]
  },
  {
   "cell_type": "code",
   "id": "b05e91f3",
   "metadata": {
    "ExecuteTime": {
     "end_time": "2024-04-30T13:21:31.901955Z",
     "start_time": "2024-04-30T13:21:31.894919Z"
    }
   },
   "source": [
    "W_statistic, p_value = stats.shapiro(false_white)\n",
    "print(f'Statistic: {W_statistic}')\n",
    "print(f'P-value: {p_value}')"
   ],
   "outputs": [
    {
     "name": "stdout",
     "output_type": "stream",
     "text": [
      "Statistic: 0.9480812549591064\n",
      "P-value: 1.3079592235953896e-06\n"
     ]
    }
   ],
   "execution_count": 60
  },
  {
   "cell_type": "markdown",
   "id": "144397f0",
   "metadata": {},
   "source": [
    "Отримали р-значення менше за 0.05, отже відкидаємо нульову гіпотезу і робимо висновок, що дані розподілені за законом, відмінним від нормального.\n",
    "\n",
    "Н0 - Вибірка \"false_black\" має нормальний розподіл\n",
    "Н1 - Вибірка \"false_black\" має розподіл, відмінний від нормального "
   ]
  },
  {
   "cell_type": "code",
   "id": "2bbe525a",
   "metadata": {
    "ExecuteTime": {
     "end_time": "2024-04-30T13:21:31.980562Z",
     "start_time": "2024-04-30T13:21:31.974462Z"
    }
   },
   "source": [
    "W_statistic, p_value = stats.shapiro(false_black)\n",
    "print(f'Statistic: {W_statistic}')\n",
    "print(f'P-value: {p_value}')"
   ],
   "outputs": [
    {
     "name": "stdout",
     "output_type": "stream",
     "text": [
      "Statistic: 0.9400525093078613\n",
      "P-value: 0.026094947010278702\n"
     ]
    }
   ],
   "execution_count": 61
  },
  {
   "cell_type": "markdown",
   "id": "7dd27f48",
   "metadata": {},
   "source": [
    "Отримали р-значення менше за 0.05, отже відкидаємо нульову гіпотезу і робимо висновок, що дані розподілені за законом, відмінним від нормального.\n",
    "\n",
    "Дамо коротку характеристику кожній з груп за кількісною змінною, розрахуємо кількість спостережень, середнє значення та стандартне відхилення."
   ]
  },
  {
   "cell_type": "code",
   "id": "c23bbac2",
   "metadata": {
    "ExecuteTime": {
     "end_time": "2024-04-30T13:21:32.036200Z",
     "start_time": "2024-04-30T13:21:32.027421Z"
    }
   },
   "source": [
    "data = [true, false, white, black, true_white, true_black, false_white, false_black]\n",
    "data1 = ['true', 'false', 'white', 'black', 'true_white', 'true_black', 'false_white', 'false_black']\n",
    "\n",
    "for elem, name in zip(data, data1):\n",
    "    print(name)\n",
    "    print(\"Кількість спостережень: \", elem.count())\n",
    "    print(\"середнє значення: \", elem.mean())\n",
    "    print(\"Стандартне відхилення: \", elem.std())\n",
    "    print('\\n')\n"
   ],
   "outputs": [
    {
     "name": "stdout",
     "output_type": "stream",
     "text": [
      "true\n",
      "Кількість спостережень:  410\n",
      "середнє значення:  61.197560975609754\n",
      "Стандартне відхилення:  34.41359960186376\n",
      "\n",
      "\n",
      "false\n",
      "Кількість спостережень:  90\n",
      "середнє значення:  50.17777777777778\n",
      "Стандартне відхилення:  32.239475341375226\n",
      "\n",
      "\n",
      "white\n",
      "Кількість спостережень:  242\n",
      "середнє значення:  57.103305785123965\n",
      "Стандартне відхилення:  32.296886362225216\n",
      "\n",
      "\n",
      "black\n",
      "Кількість спостережень:  229\n",
      "середнє значення:  56.842794759825324\n",
      "Стандартне відхилення:  31.681968182935446\n",
      "\n",
      "\n",
      "true_white\n",
      "Кількість спостережень:  199\n",
      "середнє значення:  60.246231155778894\n",
      "Стандартне відхилення:  32.92760153419593\n",
      "\n",
      "\n",
      "true_black\n",
      "Кількість спостережень:  43\n",
      "середнє значення:  56.348837209302324\n",
      "Стандартне відхилення:  34.689015498205954\n",
      "\n",
      "\n",
      "false_white\n",
      "Кількість спостережень:  199\n",
      "середнє значення:  60.246231155778894\n",
      "Стандартне відхилення:  32.92760153419593\n",
      "\n",
      "\n",
      "false_black\n",
      "Кількість спостережень:  43\n",
      "середнє значення:  56.348837209302324\n",
      "Стандартне відхилення:  34.689015498205954\n",
      "\n",
      "\n"
     ]
    }
   ],
   "execution_count": 62
  },
  {
   "cell_type": "markdown",
   "id": "e9e621b9",
   "metadata": {},
   "source": [
    "Візуалізуємо дані з допомогою ящичкових діаграм"
   ]
  },
  {
   "cell_type": "code",
   "id": "974c6fb2",
   "metadata": {
    "ExecuteTime": {
     "end_time": "2024-04-30T13:21:32.340833Z",
     "start_time": "2024-04-30T13:21:32.145286Z"
    }
   },
   "source": [
    "data_1 = [true, false]\n",
    "fig, ax = plt.subplots()\n",
    "ax.boxplot(data_1, patch_artist=True, labels=['true', 'false'])\n",
    "\n",
    "ax.set_title('Значення turns для оцінки виграшу та програшу')\n",
    "ax.set_ylabel('значення')\n",
    "plt.grid(True, linestyle='--', alpha=0.6)\n",
    "plt.show()"
   ],
   "outputs": [
    {
     "data": {
      "text/plain": [
       "<Figure size 640x480 with 1 Axes>"
      ],
      "image/png": "[encoded data removed]"
     },
     "metadata": {},
     "output_type": "display_data"
    }
   ],
   "execution_count": 63
  },
  {
   "cell_type": "code",
   "id": "dde8c003",
   "metadata": {
    "ExecuteTime": {
     "end_time": "2024-04-30T13:21:32.505479Z",
     "start_time": "2024-04-30T13:21:32.342850Z"
    }
   },
   "source": [
    "data_2 = [white, black]\n",
    "fig, ax = plt.subplots()\n",
    "ax.boxplot(data_2, patch_artist=True, labels=['white', 'black'])\n",
    "\n",
    "ax.set_title('Значення trns для білих та чорних шахматів')\n",
    "ax.set_ylabel('значення')\n",
    "plt.grid(True, linestyle='--', alpha=0.6)\n",
    "plt.show()"
   ],
   "outputs": [
    {
     "data": {
      "text/plain": [
       "<Figure size 640x480 with 1 Axes>"
      ],
      "image/png": "[encoded data removed]"
     },
     "metadata": {},
     "output_type": "display_data"
    }
   ],
   "execution_count": 64
  },
  {
   "cell_type": "code",
   "id": "bf3ec14e",
   "metadata": {
    "ExecuteTime": {
     "end_time": "2024-04-30T13:21:32.825149Z",
     "start_time": "2024-04-30T13:21:32.507360Z"
    }
   },
   "source": [
    "data_3 = [true_white, true_black, false_white, false_black]\n",
    "fig, ax = plt.subplots(figsize=(10, 6))\n",
    "ax.boxplot(data_3, patch_artist=True, labels=['true_white', 'true_black', 'false_white', 'false_black'])\n",
    "\n",
    "ax.set_title('Значення turns для оцінки виграшу та програшу з різними кольорами шахматів')\n",
    "ax.set_ylabel('значення')\n",
    "plt.grid(True, linestyle='--', alpha=0.6)\n",
    "plt.show()"
   ],
   "outputs": [
    {
     "data": {
      "text/plain": [
       "<Figure size 1000x600 with 1 Axes>"
      ],
      "image/png": "[encoded data removed]"
     },
     "metadata": {},
     "output_type": "display_data"
    }
   ],
   "execution_count": 65
  },
  {
   "cell_type": "markdown",
   "id": "6f3e76f7",
   "metadata": {},
   "source": [
    "Дослідимо вплив оцінки виграшу (змінна \"rated\") на значення змінної \"turns\". Сформулюємо гіпотези:\n",
    "\n",
    "Н0 - середні значення turns для true та false не відрізняються\n",
    "\n",
    "Н1 - середні значення turns для true та false відрізняються\n",
    "\n",
    "Проведемо однофакторний дисперсійний аналіз"
   ]
  },
  {
   "cell_type": "code",
   "id": "3b0b2944",
   "metadata": {
    "ExecuteTime": {
     "end_time": "2024-04-30T13:21:32.833333Z",
     "start_time": "2024-04-30T13:21:32.828164Z"
    }
   },
   "source": [
    "from scipy.stats import f_oneway\n",
    "\n",
    "f_value, p_value = f_oneway(true, false)\n",
    "print(\"F-значення\", f_value)\n",
    "print(\"p-значення\", p_value)"
   ],
   "outputs": [
    {
     "name": "stdout",
     "output_type": "stream",
     "text": [
      "F-значення 7.736503061945018\n",
      "p-значення 0.005616729855780643\n"
     ]
    }
   ],
   "execution_count": 66
  },
  {
   "cell_type": "markdown",
   "id": "aa15ec1e",
   "metadata": {},
   "source": [
    "Отримали р-значення менше за порогове (0.05), отже можемо прийняти першу гіпотезу і зробити висновок, що середні значення turns для true та false відрізняються, а отже оцінка виграшу має впливу на змінну turns.\n",
    "\n",
    "Дослідимо вплив кольору шахматів на значення змінної turns. Сформулюємо гіпотези:\n",
    "\n",
    "Н0 - середні значення turns для білих та чорних не відрізняються\n",
    "\n",
    "Н1 - середні значення turns для білих та чорних відрізняються\n",
    "\n",
    "Проведемо однофакторний дисперсійний аналіз."
   ]
  },
  {
   "cell_type": "code",
   "id": "fcd133de",
   "metadata": {
    "ExecuteTime": {
     "end_time": "2024-04-30T13:21:32.839750Z",
     "start_time": "2024-04-30T13:21:32.834350Z"
    }
   },
   "source": [
    "f_value, p_value = f_oneway(white, black)\n",
    "print(\"F-значення\", f_value)\n",
    "print(\"p-значення\", p_value)"
   ],
   "outputs": [
    {
     "name": "stdout",
     "output_type": "stream",
     "text": [
      "F-значення 0.007798261477204177\n",
      "p-значення 0.9296697607394514\n"
     ]
    }
   ],
   "execution_count": 67
  },
  {
   "cell_type": "markdown",
   "id": "ce58ce81",
   "metadata": {},
   "source": [
    "Отримали р-значення більше за порогове (0.05), отже можемо прийняти нуьову гіпотезу і зробити висновок, що середні значення turns для білих та чорних не відрізняються, а отже колір шахматів не має впливу на змінну turns.\n",
    "\n",
    "Тепер порівняємо між собою групи оцінок виграшу з різними кольорами шахматів. Наприклад порівняємо середні значення turns для true_white та ture_black. Сформулюєно гіпотези:\n",
    "\n",
    "Н0 - середні значення turns для true_white та true_black не відрізняються\n",
    "\n",
    "Н1 - середні значення turns для true_white та true_black не відрізняються\n",
    "\n",
    "Проведемо однофакторний дисперсійний аналіз"
   ]
  },
  {
   "cell_type": "code",
   "id": "85fc0d24",
   "metadata": {
    "ExecuteTime": {
     "end_time": "2024-04-30T13:21:32.846062Z",
     "start_time": "2024-04-30T13:21:32.840766Z"
    }
   },
   "source": [
    "f_value, p_value = f_oneway(true_white, true_black)\n",
    "print(\"F-значення\", f_value)\n",
    "print(\"p-значення\", p_value)"
   ],
   "outputs": [
    {
     "name": "stdout",
     "output_type": "stream",
     "text": [
      "F-значення 0.48603232002959923\n",
      "p-значення 0.48637730958682046\n"
     ]
    }
   ],
   "execution_count": 68
  },
  {
   "cell_type": "markdown",
   "id": "e266c489",
   "metadata": {},
   "source": [
    "Отримали р-значення менше за порогове (0.05), отже можемо прийняти першу гіпотезу і зробити висновок, що середні значення turns для true_white та true_black не відрізняються.\n",
    "\n",
    "Аналогічний аналіз проведемо для false з різним кольором. Сформулюємо гіпотези:\n",
    "\n",
    "Н0 - середні значення turns для false_white та false_black не відрізняється\n",
    "Н1 - середні значення turns для false_white та false_black відрізняється"
   ]
  },
  {
   "cell_type": "code",
   "id": "5cacdacc",
   "metadata": {
    "ExecuteTime": {
     "end_time": "2024-04-30T13:21:32.852800Z",
     "start_time": "2024-04-30T13:21:32.847081Z"
    }
   },
   "source": [
    "f_value, p_value = f_oneway(false_white, false_black)\n",
    "print(\"F-значення\", f_value)\n",
    "print(\"p-значення\", p_value)"
   ],
   "outputs": [
    {
     "name": "stdout",
     "output_type": "stream",
     "text": [
      "F-значення 0.48603232002959923\n",
      "p-значення 0.48637730958682046\n"
     ]
    }
   ],
   "execution_count": 69
  },
  {
   "cell_type": "markdown",
   "id": "0174a9b7",
   "metadata": {},
   "source": [
    "Отримали р-значення менше за порогове (0.05), отже можемо прийняти першу гіпотезу і зробити висновок, що середні значення turns для false_white та false_black не відрізняються.\n",
    "\n",
    "Оскільки, в ході аналізу було виявлено статистично значущі відмінності між середніми значеннями turns для кольору, то проведемо тест Тьюкі щоб з'ясувати між якими, конкретно, групами існують ці відмінності"
   ]
  },
  {
   "cell_type": "code",
   "id": "89dbe412",
   "metadata": {
    "ExecuteTime": {
     "end_time": "2024-04-30T13:21:33.317110Z",
     "start_time": "2024-04-30T13:21:32.853819Z"
    }
   },
   "source": [
    "from statsmodels.stats.multicomp import pairwise_tukeyhsd\n",
    "import numpy as np\n",
    "\n",
    "data = np.concatenate([white, black])\n",
    "groups = ['white'] * len(white) + ['black'] * len(black)\n",
    "\n",
    "df1 = pd.DataFrame({'змінна': data, 'Діяльність': groups})\n",
    "\n",
    "tukey_test = pairwise_tukeyhsd(endog=df1['змінна'], groups=df1['Діяльність'], alpha=0.05)\n",
    "print(tukey_test)"
   ],
   "outputs": [
    {
     "name": "stdout",
     "output_type": "stream",
     "text": [
      "Multiple Comparison of Means - Tukey HSD, FWER=0.05\n",
      "===================================================\n",
      "group1 group2 meandiff p-adj   lower  upper  reject\n",
      "---------------------------------------------------\n",
      " black  white   0.2605 0.9297 -5.5364 6.0574  False\n",
      "---------------------------------------------------\n"
     ]
    }
   ],
   "execution_count": 70
  },
  {
   "metadata": {},
   "cell_type": "markdown",
   "source": "В результаті проведення тесту Тьюкі отримали значення, що свідчать про те, що між групами не існує статистично значущої різниці, що суперечить обчисленням, проведеним раніше. Це може бути пов'язано з тим, що дані розподілені не за нормальним законом,що не підходить для параметричних тестів, в тому числі і для дисперсійного аналізу.",
   "id": "cc175a6b"
  }
 ],
 "metadata": {
  "kernelspec": {
   "display_name": "Python 3 (ipykernel)",
   "language": "python",
   "name": "python3"
  },
  "language_info": {
   "codemirror_mode": {
    "name": "ipython",
    "version": 3
   },
   "file_extension": ".py",
   "mimetype": "text/x-python",
   "name": "python",
   "nbconvert_exporter": "python",
   "pygments_lexer": "ipython3",
   "version": "3.11.5"
  }
 },
 "nbformat": 4,
 "nbformat_minor": 5
}
