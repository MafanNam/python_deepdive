{
 "cells": [
  {
   "cell_type": "markdown",
   "id": "4432eb05",
   "metadata": {},
   "source": [
    "## Обробка та аналіз біомедичних даних\n",
    "### БС-24\n",
    "### Манзик Максим\n",
    "## Лабораторна робота №6"
   ]
  },
  {
   "cell_type": "markdown",
   "id": "1f5e141d",
   "metadata": {},
   "source": [
    "### Дисперсійний аналіз"
   ]
  },
  {
   "cell_type": "markdown",
   "id": "5ce21a39",
   "metadata": {},
   "source": "Для виконання роботи було обрано датасет, що містить інформацію, зібрану з онлайн-платформи про шахмати. Він охоплює різні атрибути, переможцем, оціненням, ходами тощо."
  },
  {
   "cell_type": "code",
   "id": "8e3fc564",
   "metadata": {
    "ExecuteTime": {
     "end_time": "2024-04-29T21:30:40.554054Z",
     "start_time": "2024-04-29T21:30:40.454229Z"
    }
   },
   "source": [
    "import pandas as pd\n",
    "import matplotlib.pyplot as plt\n",
    "\n",
    "df = pd.read_csv(r\"C:\\Users\\kepkp\\PycharmProjects\\Study\\python_deepdive\\tasks\\Analytics\\LB_6\\games.csv\")[:500]\n",
    "print(df)"
   ],
   "outputs": [
    {
     "name": "stdout",
     "output_type": "stream",
     "text": [
      "           id  rated    created_at  last_move_at  turns victory_status winner  \\\n",
      "0    TZJHLljE  False  1.504210e+12  1.504210e+12     13      outoftime  white   \n",
      "1    l1NXvwaE   True  1.504130e+12  1.504130e+12     16         resign  black   \n",
      "2    mIICvQHh   True  1.504130e+12  1.504130e+12     61           mate  white   \n",
      "3    kWKvrqYL   True  1.504110e+12  1.504110e+12     61           mate  white   \n",
      "4    9tXo1AUZ   True  1.504030e+12  1.504030e+12     95           mate  white   \n",
      "..        ...    ...           ...           ...    ...            ...    ...   \n",
      "495  lm8AKQIn   True  1.502730e+12  1.502730e+12    120           mate  black   \n",
      "496  uiJ5thnm   True  1.502730e+12  1.502730e+12     41           mate  white   \n",
      "497  GHlw6n8z   True  1.504210e+12  1.504220e+12     42         resign  black   \n",
      "498  yLhzi5Dd   True  1.503470e+12  1.503470e+12     63         resign  white   \n",
      "499  brPQOL4Y  False  1.503360e+12  1.503360e+12     23         resign  black   \n",
      "\n",
      "    increment_code       white_id  white_rating      black_id  black_rating  \\\n",
      "0             15+2       bourgris          1500          a-00          1191   \n",
      "1             5+10           a-00          1322     skinnerua          1261   \n",
      "2             5+10         ischia          1496          a-00          1500   \n",
      "3             20+0  daniamurashov          1439  adivanov2009          1454   \n",
      "4             30+3      nik221107          1523  adivanov2009          1469   \n",
      "..             ...            ...           ...           ...           ...   \n",
      "495            5+5  fischerdipper          1746        koljan          1712   \n",
      "496            5+5  fischerdipper          1741   funracer_at          1496   \n",
      "497          15+15        tensors          1295    blackhat46          1240   \n",
      "498           15+2   fabioamsouza          1430       tensors          1302   \n",
      "499           15+2        tensors          1302    piedperson          1248   \n",
      "\n",
      "                                                 moves opening_eco  \\\n",
      "0    d4 d5 c4 c6 cxd5 e6 dxe6 fxe6 Nf3 Bb4+ Nc3 Ba5...         D10   \n",
      "1    d4 Nc6 e4 e5 f4 f6 dxe5 fxe5 fxe5 Nxe5 Qd4 Nc6...         B00   \n",
      "2    e4 e5 d3 d6 Be3 c6 Be2 b5 Nd2 a5 a4 c5 axb5 Nc...         C20   \n",
      "3    d4 d5 Nf3 Bf5 Nc3 Nf6 Bf4 Ng4 e3 Nc6 Be2 Qd7 O...         D02   \n",
      "4    e4 e5 Nf3 d6 d4 Nc6 d5 Nb4 a3 Na6 Nc3 Be7 b4 N...         C41   \n",
      "..                                                 ...         ...   \n",
      "495  c4 c6 d3 e6 Nf3 d5 cxd5 exd5 Nc3 Be6 e3 Nf6 Be...         A11   \n",
      "496  c4 e6 d3 Bc5 Nf3 a6 Nc3 h6 e3 Nf6 d4 Ba7 Be2 O...         A13   \n",
      "497  d4 d5 c4 Nf6 Nf3 c6 Bg5 e6 e3 Be7 Bd3 Nbd7 O-O...         D11   \n",
      "498  d4 d5 Nf3 Nf6 Bg5 Nc6 Bxf6 exf6 Qd3 Bd6 Qe3+ Q...         D03   \n",
      "499  d4 d5 c4 Nf6 cxd5 Nxd5 Nc3 Nc6 Nf3 Bf5 e4 Nxc3...         D06   \n",
      "\n",
      "                                    opening_name  opening_ply  \n",
      "0               Slav Defense: Exchange Variation            5  \n",
      "1         Nimzowitsch Defense: Kennedy Variation            4  \n",
      "2          King's Pawn Game: Leonardis Variation            3  \n",
      "3         Queen's Pawn Game: Zukertort Variation            3  \n",
      "4                               Philidor Defense            5  \n",
      "..                                           ...          ...  \n",
      "495  English Opening: Caro-Kann Defensive System            2  \n",
      "496           English Opening: Agincourt Defense            2  \n",
      "497                   Slav Defense: Bonet Gambit            7  \n",
      "498              Queen's Pawn Game: Torre Attack            5  \n",
      "499     Queen's Gambit Refused: Marshall Defense            4  \n",
      "\n",
      "[500 rows x 16 columns]\n"
     ]
    }
   ],
   "execution_count": 2
  },
  {
   "cell_type": "markdown",
   "id": "84852263",
   "metadata": {},
   "source": [
    "Будемо використовувати змінну, що характеризує стать, рід діяльності, а в якості кількісної змінної буде змінна що показує дані про локацію, а саме широту місцезнаходження замовника."
   ]
  },
  {
   "cell_type": "code",
   "execution_count": 98,
   "id": "ff998e45",
   "metadata": {},
   "outputs": [],
   "source": [
    "male = df.dropna(subset=['latitude']).loc[df['Gender'] == 'Male', 'latitude']\n",
    "female = df.dropna(subset=['latitude']).loc[df['Gender'] == 'Female', 'latitude']\n",
    "\n",
    "student = df.dropna(subset=['latitude']).loc[df['Occupation'] == 'Student', 'latitude']\n",
    "employee = df.dropna(subset=['latitude']).loc[df['Occupation'] == 'Employee', 'latitude']\n",
    "self_empl = df.dropna(subset=['latitude']).loc[df['Occupation'] == 'Self Employeed', 'latitude']\n",
    "\n",
    "male_student = df.loc[(df['Occupation'] == 'Student') & (df['Gender'] == 'Male'), 'latitude']\n",
    "male_employee = df.loc[(df['Occupation'] == 'Employee') & (df['Gender'] == 'Male'), 'latitude']\n",
    "male_self_empl = df.loc[(df['Occupation'] == 'Self Employeed') & (df['Gender'] == 'Male'), 'latitude']\n",
    "female_student = df.loc[(df['Occupation'] == 'Student') & (df['Gender'] == 'Female'), 'latitude']\n",
    "female_employee = df.loc[(df['Occupation'] == 'Employee') & (df['Gender'] == 'Female'), 'latitude']\n",
    "female_self_empl = df.loc[(df['Occupation'] == 'Self Employeed') & (df['Gender'] == 'Female'), 'latitude']"
   ]
  },
  {
   "cell_type": "markdown",
   "id": "fcc45c09",
   "metadata": {},
   "source": [
    "Перевіримо розподіли на нормальність. Використаємо тест Шапіро-Вілка. Сформулюємо гіпотези\n",
    "\n",
    "Н0 - Вибірка \"male\" має нормальний розподіл\n",
    "Н1 - Вибірка \"male\" має розподіл, відмінний від нормального"
   ]
  },
  {
   "cell_type": "code",
   "execution_count": 23,
   "id": "b432e92e",
   "metadata": {},
   "outputs": [
    {
     "name": "stdout",
     "output_type": "stream",
     "text": [
      "Statistic: 0.9809269309043884\n",
      "P-value: 0.004277246072888374\n"
     ]
    }
   ],
   "source": [
    "from scipy import stats\n",
    "\n",
    "W_statistic, p_value = stats.shapiro(male)\n",
    "print(f'Statistic: {W_statistic}')\n",
    "print(f'P-value: {p_value}')"
   ]
  },
  {
   "cell_type": "markdown",
   "id": "00a31f67",
   "metadata": {},
   "source": [
    "Отримали р-значення менше за 0.05, отже вибірка розподілена не за нормальним законом.\n",
    "\n",
    "Н0 - Вибірка \"female\" має нормальний розподіл\n",
    "Н1 - Вибірка \"female\" має розподіл, відмінний від нормального "
   ]
  },
  {
   "cell_type": "code",
   "execution_count": 24,
   "id": "a414b1a9",
   "metadata": {},
   "outputs": [
    {
     "name": "stdout",
     "output_type": "stream",
     "text": [
      "Statistic: 0.9752172827720642\n",
      "P-value: 0.004499049391597509\n"
     ]
    }
   ],
   "source": [
    "W_statistic, p_value = stats.shapiro(female)\n",
    "print(f'Statistic: {W_statistic}')\n",
    "print(f'P-value: {p_value}')"
   ]
  },
  {
   "cell_type": "markdown",
   "id": "c5515aaa",
   "metadata": {},
   "source": [
    "Отримали р-значення менше за 0.05, отже відкидаємо нульову гіпотезу і робимо висновок, що дані розподілені за законом, відмінним від нормального.\n",
    "\n",
    "Н0 - Вибірка \"student\" має нормальний розподіл\n",
    "Н1 - Вибірка \"student\" має розподіл, відмінний від нормального "
   ]
  },
  {
   "cell_type": "code",
   "execution_count": 51,
   "id": "8292fe4e",
   "metadata": {},
   "outputs": [
    {
     "name": "stdout",
     "output_type": "stream",
     "text": [
      "Statistic: 0.9725870490074158\n",
      "P-value: 0.00045763005618937314\n"
     ]
    }
   ],
   "source": [
    "W_statistic, p_value = stats.shapiro(student)\n",
    "print(f'Statistic: {W_statistic}')\n",
    "print(f'P-value: {p_value}')"
   ]
  },
  {
   "cell_type": "markdown",
   "id": "743760e3",
   "metadata": {},
   "source": [
    "Отримали р-значення менше за 0.05, отже відкидаємо нульову гіпотезу і робимо висновок, що дані розподілені за законом, відмінним від нормального.\n",
    "\n",
    "Н0 - Вибірка \"employee\" має нормальний розподіл\n",
    "Н1 - Вибірка \"employee\" має розподіл, відмінний від нормального "
   ]
  },
  {
   "cell_type": "code",
   "execution_count": 52,
   "id": "8dec4d90",
   "metadata": {},
   "outputs": [
    {
     "name": "stdout",
     "output_type": "stream",
     "text": [
      "Statistic: 0.9748121500015259\n",
      "P-value: 0.025593172758817673\n"
     ]
    }
   ],
   "source": [
    "W_statistic, p_value = stats.shapiro(employee)\n",
    "print(f'Statistic: {W_statistic}')\n",
    "print(f'P-value: {p_value}')"
   ]
  },
  {
   "cell_type": "markdown",
   "id": "a4926a67",
   "metadata": {},
   "source": [
    "Отримали р-значення менше за 0.05, отже відкидаємо нульову гіпотезу і робимо висновок, що дані розподілені за законом, відмінним від нормального.\n",
    "\n",
    "Н0 - Вибірка \"self_empl\" має нормальний розподіл\n",
    "Н1 - Вибірка \"self_empl\" має розподіл, відмінний від нормального "
   ]
  },
  {
   "cell_type": "code",
   "execution_count": 54,
   "id": "92054a21",
   "metadata": {},
   "outputs": [
    {
     "name": "stdout",
     "output_type": "stream",
     "text": [
      "Statistic: 0.9739680886268616\n",
      "P-value: 0.2864520847797394\n"
     ]
    }
   ],
   "source": [
    "W_statistic, p_value = stats.shapiro(self_empl)\n",
    "print(f'Statistic: {W_statistic}')\n",
    "print(f'P-value: {p_value}')"
   ]
  },
  {
   "cell_type": "markdown",
   "id": "8164745e",
   "metadata": {},
   "source": [
    "Отримали р-значення більше за 0.05, отже маємо право прийняти нульову гіпотезу і зробити висновок, що дані можуть бути розподілені за нормальним законом.\n",
    "\n",
    "Н0 - Вибірка \"male_student\" має нормальний розподіл\n",
    "Н1 - Вибірка \"male_student\" має розподіл, відмінний від нормального "
   ]
  },
  {
   "cell_type": "code",
   "execution_count": 56,
   "id": "a46d4c0d",
   "metadata": {},
   "outputs": [
    {
     "name": "stdout",
     "output_type": "stream",
     "text": [
      "Statistic: 0.9647836685180664\n",
      "P-value: 0.004050743766129017\n"
     ]
    }
   ],
   "source": [
    "W_statistic, p_value = stats.shapiro(male_student)\n",
    "print(f'Statistic: {W_statistic}')\n",
    "print(f'P-value: {p_value}')"
   ]
  },
  {
   "cell_type": "markdown",
   "id": "883cde6e",
   "metadata": {},
   "source": [
    "Отримали р-значення менше за 0.05, отже відкидаємо нульову гіпотезу і робимо висновок, що дані розподілені за законом, відмінним від нормального.\n",
    "\n",
    "Н0 - Вибірка \"male_employee\" має нормальний розподіл\n",
    "Н1 - Вибірка \"male_employee\" має розподіл, відмінний від нормального "
   ]
  },
  {
   "cell_type": "code",
   "execution_count": 61,
   "id": "84417be5",
   "metadata": {},
   "outputs": [
    {
     "name": "stdout",
     "output_type": "stream",
     "text": [
      "Statistic: 0.9671875238418579\n",
      "P-value: 0.06654781848192215\n"
     ]
    }
   ],
   "source": [
    "W_statistic, p_value = stats.shapiro(male_employee)\n",
    "print(f'Statistic: {W_statistic}')\n",
    "print(f'P-value: {p_value}')"
   ]
  },
  {
   "cell_type": "markdown",
   "id": "5fbb58ad",
   "metadata": {},
   "source": [
    "Отримали р-значення більше за 0.05, отже можемо прийняти нульову гіпотезу і зробити висновок, що дані розподілені за нормальним законом.\n",
    "\n",
    "Н0 - Вибірка \"male_self_empl\" має нормальний розподіл\n",
    "Н1 - Вибірка \"male_self_empl\" має розподіл, відмінний від нормального "
   ]
  },
  {
   "cell_type": "code",
   "execution_count": 62,
   "id": "74f5cc21",
   "metadata": {},
   "outputs": [
    {
     "name": "stdout",
     "output_type": "stream",
     "text": [
      "Statistic: 0.964942216873169\n",
      "P-value: 0.2736470699310303\n"
     ]
    }
   ],
   "source": [
    "W_statistic, p_value = stats.shapiro(male_self_empl)\n",
    "print(f'Statistic: {W_statistic}')\n",
    "print(f'P-value: {p_value}')"
   ]
  },
  {
   "cell_type": "markdown",
   "id": "720dafae",
   "metadata": {},
   "source": [
    "Отримали р-значення більше за критичний рівень значущості (0.05), отже маємо право не відкидати нульову гіпотезу і зробити висновок, що дані вибірки можуть бути розподілені за нормальним законом.\n",
    "\n",
    "Н0 - Вибірка \"female_student\" має нормальний розподіл\n",
    "Н1 - Вибірка \"female_student\" має розподіл, відмінний від нормального "
   ]
  },
  {
   "cell_type": "code",
   "execution_count": 63,
   "id": "b05e91f3",
   "metadata": {},
   "outputs": [
    {
     "name": "stdout",
     "output_type": "stream",
     "text": [
      "Statistic: 0.9696449041366577\n",
      "P-value: 0.03035047836601734\n"
     ]
    }
   ],
   "source": [
    "W_statistic, p_value = stats.shapiro(female_student)\n",
    "print(f'Statistic: {W_statistic}')\n",
    "print(f'P-value: {p_value}')"
   ]
  },
  {
   "cell_type": "markdown",
   "id": "144397f0",
   "metadata": {},
   "source": [
    "Отримали р-значення менше за 0.05, отже відкидаємо нульову гіпотезу і робимо висновок, що дані розподілені за законом, відмінним від нормального.\n",
    "\n",
    "Н0 - Вибірка \"female_employee\" має нормальний розподіл\n",
    "Н1 - Вибірка \"female_employee\" має розподіл, відмінний від нормального "
   ]
  },
  {
   "cell_type": "code",
   "execution_count": 64,
   "id": "2bbe525a",
   "metadata": {},
   "outputs": [
    {
     "name": "stdout",
     "output_type": "stream",
     "text": [
      "Statistic: 0.936316967010498\n",
      "P-value: 0.010647346265614033\n"
     ]
    }
   ],
   "source": [
    "W_statistic, p_value = stats.shapiro(female_employee)\n",
    "print(f'Statistic: {W_statistic}')\n",
    "print(f'P-value: {p_value}')"
   ]
  },
  {
   "cell_type": "markdown",
   "id": "3a3fd4a6",
   "metadata": {},
   "source": [
    "Отримали р-значення менше за 0.05, отже відкидаємо нульову гіпотезу і робимо висновок, що дані розподілені за законом, відмінним від нормального.\n",
    "\n",
    "Н0 - Вибірка \"female_self_empl\" має нормальний розподіл\n",
    "Н1 - Вибірка \"female_self_empl\" має розподіл, відмінний від нормального "
   ]
  },
  {
   "cell_type": "code",
   "execution_count": 65,
   "id": "0a3471fb",
   "metadata": {},
   "outputs": [
    {
     "name": "stdout",
     "output_type": "stream",
     "text": [
      "Statistic: 0.9038439989089966\n",
      "P-value: 0.09262873232364655\n"
     ]
    }
   ],
   "source": [
    "W_statistic, p_value = stats.shapiro(female_self_empl)\n",
    "print(f'Statistic: {W_statistic}')\n",
    "print(f'P-value: {p_value}')"
   ]
  },
  {
   "cell_type": "markdown",
   "id": "7dd27f48",
   "metadata": {},
   "source": [
    "Отримали р-значення більше за критичний рівень значущості (0.05), отже маємо право не відкидати нульову гіпотезу і зробити висновок, що дані вибірки можуть бути розподілені за нормальним законом.\n",
    "\n",
    "Дамо коротку характеристику кожній з груп за кількісною змінною, розрахуємо кількість спостережень, середнє значення та стандартне відхилення."
   ]
  },
  {
   "cell_type": "code",
   "execution_count": 69,
   "id": "c23bbac2",
   "metadata": {},
   "outputs": [
    {
     "name": "stdout",
     "output_type": "stream",
     "text": [
      "male\n",
      "Кількість спостережень:  222\n",
      "середнє значення:  12.970274324324322\n",
      "Стандартне відхилення:  0.044997322376277155\n",
      "\n",
      "\n",
      "female\n",
      "Кількість спостережень:  166\n",
      "середнє значення:  12.974443373493976\n",
      "Стандартне відхилення:  0.04382222403598045\n",
      "\n",
      "\n",
      "student\n",
      "Кількість спостережень:  207\n",
      "середнє значення:  12.974614492753625\n",
      "Стандартне відхилення:  0.044899961971665285\n",
      "\n",
      "\n",
      "employee\n",
      "Кількість спостережень:  118\n",
      "середнє значення:  12.962617796610168\n",
      "Стандартне відхилення:  0.04244547760907575\n",
      "\n",
      "\n",
      "self_empl\n",
      "Кількість спостережень:  54\n",
      "середнє значення:  12.9794962962963\n",
      "Стандартне відхилення:  0.046916469180485\n",
      "\n",
      "\n",
      "male_student\n",
      "Кількість спостережень:  115\n",
      "середнє значення:  12.972709565217393\n",
      "Стандартне відхилення:  0.042124749931920696\n",
      "\n",
      "\n",
      "male_employee\n",
      "Кількість спостережень:  69\n",
      "середнє значення:  12.960769565217392\n",
      "Стандартне відхилення:  0.04509260831675386\n",
      "\n",
      "\n",
      "male_self_empl\n",
      "Кількість спостережень:  38\n",
      "середнє значення:  12.980163157894737\n",
      "Стандартне відхилення:  0.05101153775718583\n",
      "\n",
      "\n",
      "female_student\n",
      "Кількість спостережень:  92\n",
      "середнє значення:  12.976995652173912\n",
      "Стандартне відхилення:  0.04827417554805807\n",
      "\n",
      "\n",
      "female_employee\n",
      "Кількість спостережень:  49\n",
      "середнє значення:  12.965220408163265\n",
      "Стандартне відхилення:  0.03871757234335941\n",
      "\n",
      "\n",
      "female_self_empl\n",
      "Кількість спостережень:  16\n",
      "середнє значення:  12.977912499999999\n",
      "Стандартне відхилення:  0.036809090815539985\n",
      "\n",
      "\n"
     ]
    }
   ],
   "source": [
    "data = [male, female, student, employee, self_empl, male_student, male_employee, male_self_empl, female_student, \n",
    "        female_employee, female_self_empl]\n",
    "data1 = ['male', 'female', 'student', 'employee', 'self_empl', 'male_student', 'male_employee', 'male_self_empl', \n",
    "         'female_student', 'female_employee', 'female_self_empl']\n",
    "\n",
    "for elem, name in zip(data, data1):\n",
    "    print(name)\n",
    "    print(\"Кількість спостережень: \", elem.count())\n",
    "    print(\"середнє значення: \", elem.mean())\n",
    "    print(\"Стандартне відхилення: \", elem.std())\n",
    "    print('\\n')\n",
    "    "
   ]
  },
  {
   "cell_type": "markdown",
   "id": "e9e621b9",
   "metadata": {},
   "source": [
    "Візуалізуємо дані з допомогою ящичкових діаграм"
   ]
  },
  {
   "cell_type": "code",
   "execution_count": 47,
   "id": "974c6fb2",
   "metadata": {},
   "outputs": [
    {
     "data": {
      "image/png": "[encoded data removed]",
      "text/plain": [
       "<Figure size 640x480 with 1 Axes>"
      ]
     },
     "metadata": {},
     "output_type": "display_data"
    }
   ],
   "source": [
    "data_1 = [male, female]\n",
    "fig, ax = plt.subplots()\n",
    "ax.boxplot(data_1, patch_artist=True, labels=['male', 'female'])\n",
    "\n",
    "ax.set_title('Значення latitude для чоловіків та жінок')\n",
    "ax.set_ylabel('значення')\n",
    "plt.grid(True, linestyle='--', alpha=0.6)\n",
    "plt.show()"
   ]
  },
  {
   "cell_type": "code",
   "execution_count": 74,
   "id": "dde8c003",
   "metadata": {},
   "outputs": [
    {
     "data": {
      "image/png": "[encoded data removed]",
      "text/plain": [
       "<Figure size 640x480 with 1 Axes>"
      ]
     },
     "metadata": {},
     "output_type": "display_data"
    }
   ],
   "source": [
    "data_2 = [student, employee, self_empl]\n",
    "fig, ax = plt.subplots()\n",
    "ax.boxplot(data_2, patch_artist=True, labels=['student', 'employee', 'self_empl'])\n",
    "\n",
    "ax.set_title('Значення latitude для студентів, робітників та фрілансерів')\n",
    "ax.set_ylabel('значення')\n",
    "plt.grid(True, linestyle='--', alpha=0.6)\n",
    "plt.show()"
   ]
  },
  {
   "cell_type": "code",
   "execution_count": 79,
   "id": "bf3ec14e",
   "metadata": {},
   "outputs": [
    {
     "data": {
      "image/png": "[encoded data removed]",
      "text/plain": [
       "<Figure size 1000x600 with 1 Axes>"
      ]
     },
     "metadata": {},
     "output_type": "display_data"
    }
   ],
   "source": [
    "data_3 = [male_student, male_employee, male_self_empl, female_student, female_employee, female_self_empl]\n",
    "fig, ax = plt.subplots(figsize=(10, 6))\n",
    "ax.boxplot(data_3, patch_artist=True, labels=['male_student', 'male_employee', 'male_self_empl', 'female_student', \n",
    "                                             'female_employee', 'female_self_empl'])\n",
    "\n",
    "ax.set_title('Значення latitude для чоловіків та жінок з різним родом діяльності')\n",
    "ax.set_ylabel('значення')\n",
    "plt.grid(True, linestyle='--', alpha=0.6)\n",
    "plt.show()"
   ]
  },
  {
   "cell_type": "markdown",
   "id": "6f3e76f7",
   "metadata": {},
   "source": [
    "Дослідимо вплив статі (змінна \"Gender\") на значення змінної \"latitude\". Сформулюємо гіпотези:\n",
    "\n",
    "Н0 - середні значення latitude для чоловіків та жінок не відрізняються\n",
    "Н1 - середні значення latitude для чоловіків та жінок відрізняються\n",
    "\n",
    "Проведемо однофакторний дисперсійний аналіз"
   ]
  },
  {
   "cell_type": "code",
   "execution_count": 72,
   "id": "3b0b2944",
   "metadata": {},
   "outputs": [
    {
     "name": "stdout",
     "output_type": "stream",
     "text": [
      "F-значення 0.8336937752919856\n",
      "p-значення 0.36177654013951877\n"
     ]
    }
   ],
   "source": [
    "from scipy.stats import f_oneway\n",
    "\n",
    "f_value, p_value = f_oneway(male, female)\n",
    "print(\"F-значення\", f_value)\n",
    "print(\"p-значення\", p_value)"
   ]
  },
  {
   "cell_type": "markdown",
   "id": "aa15ec1e",
   "metadata": {},
   "source": [
    "Отримали р-значення більше за порогове (0.05), отже можемо прийняти нуьову гіпотезу і зробити висновок, що середні значення змінної latitude для чоловіків та жінок не відрізняються, а отже стать не має впливу на змінну latitude.\n",
    "\n",
    "Дослідимо вплив виду діяльності на значення змінної latitude. Сформулюємо гіпотези:\n",
    "\n",
    "Н0 - середні значення latitude для студентів, робітників та фрілансерів не відрізняються\n",
    "Н1 - середні значення latitude для студентів, робітників та фрілансерів відрізняються\n",
    "\n",
    "Проведемо однофакторний дисперсійний аналіз."
   ]
  },
  {
   "cell_type": "code",
   "execution_count": 96,
   "id": "fcd133de",
   "metadata": {},
   "outputs": [
    {
     "name": "stdout",
     "output_type": "stream",
     "text": [
      "F-значення 3.7379953959004046\n",
      "p-значення 0.024690923993114455\n"
     ]
    }
   ],
   "source": [
    "f_value, p_value = f_oneway(self_empl, student, employee)\n",
    "print(\"F-значення\", f_value)\n",
    "print(\"p-значення\", p_value)"
   ]
  },
  {
   "cell_type": "markdown",
   "id": "ce58ce81",
   "metadata": {},
   "source": [
    "Отримали р-значення менше за порогове, отже можемо відкинути нульову гіпотезу і зробити висновок, що існує статистично значущп різниця між середніми latitude для студентів, робітників та фрілансерів, отже можна сказати, що рід діяльності має вплив на цю змінну.\n",
    "\n",
    "Тепер порівняємо між собою групи людей конкретної статі з різним родом діяльності. Наприклад порівняємо середні значення latitude для жінок студентів, робітників та фрілансерів. Сформулюєно гіпотези:\n",
    "\n",
    "Н0 - середні значення latitude для жінок студентів, робітниць та фрілансерок не відрізняються\n",
    "Н1 - середні значення latitude для жінок студентів, робітниць та фрілансерок не відрізняються\n",
    "\n",
    "Проведемо однофакторний дисперсійний аналіз"
   ]
  },
  {
   "cell_type": "code",
   "execution_count": 80,
   "id": "85fc0d24",
   "metadata": {},
   "outputs": [
    {
     "name": "stdout",
     "output_type": "stream",
     "text": [
      "F-значення 1.2127941028587716\n",
      "p-значення 0.30018926431553067\n"
     ]
    }
   ],
   "source": [
    "f_value, p_value = f_oneway(female_student, female_employee, female_self_empl)\n",
    "print(\"F-значення\", f_value)\n",
    "print(\"p-значення\", p_value)"
   ]
  },
  {
   "cell_type": "markdown",
   "id": "e266c489",
   "metadata": {},
   "source": [
    "Отримали р-значення більше за порогове, отже можна прийняти нульову гіпотезу і зробити висновок, що не існує статистично значущої різниці між середніми значеннями latitude для жінок різного роду діяльності.\n",
    "\n",
    "Аналогічний аналіз проведемо для чоловіків з різним родом діяльності. Сформулюємо гіпотези:\n",
    "\n",
    "Н0 - середні значення latitude для чоловіків студентів, робітників та фрілансерів не відрізняється\n",
    "Н1 - середні значення latitude для чоловіків студентів, робітників та фрілансерів відрізняється"
   ]
  },
  {
   "cell_type": "code",
   "execution_count": 82,
   "id": "5cacdacc",
   "metadata": {},
   "outputs": [
    {
     "name": "stdout",
     "output_type": "stream",
     "text": [
      "F-значення 2.6649235369426556\n",
      "p-значення 0.07186169784124072\n"
     ]
    }
   ],
   "source": [
    "f_value, p_value = f_oneway(male_student, male_employee, male_self_empl)\n",
    "print(\"F-значення\", f_value)\n",
    "print(\"p-значення\", p_value)"
   ]
  },
  {
   "cell_type": "markdown",
   "id": "0174a9b7",
   "metadata": {},
   "source": [
    "Отримали р-значення більше за порогове, отже маємо право прийняти нульову гіпотезу і зробити висновок, що не існує статистично значущої різниці між середніми значеннями latitude для чоловіків різного роду діяльності. Прооте, оскільки наші дані розподілені не за нормальним законом розподілу, то результати можуть бути неправдивими.\n",
    "\n",
    "Оскільки, в ході аналізу було виявлено статистично значущі відмінності між середніми значеннями latitude для людей з різною діяльністю, то проведемо тест Тьюкі щоб з'ясувати між якими, конкретно, групами існують ці відмінності"
   ]
  },
  {
   "cell_type": "code",
   "execution_count": 92,
   "id": "89dbe412",
   "metadata": {},
   "outputs": [
    {
     "name": "stdout",
     "output_type": "stream",
     "text": [
      "   Multiple Comparison of Means - Tukey HSD, FWER=0.05   \n",
      "=========================================================\n",
      "  group1    group2  meandiff p-adj   lower  upper  reject\n",
      "---------------------------------------------------------\n",
      " employee self_empl   0.0169 0.0554 -0.0003 0.0341  False\n",
      " employee   student    0.012 0.0516 -0.0001 0.0241  False\n",
      "self_empl   student  -0.0049 0.7525 -0.0209 0.0111  False\n",
      "---------------------------------------------------------\n"
     ]
    }
   ],
   "source": [
    "from statsmodels.stats.multicomp import pairwise_tukeyhsd\n",
    "import numpy as np\n",
    "\n",
    "data = np.concatenate([student, employee, self_empl])\n",
    "groups = ['student'] * len(student) + ['employee'] * len(employee) + ['self_empl'] * len(self_empl)\n",
    "\n",
    "df1 = pd.DataFrame({'змінна': data, 'Діяльність': groups})\n",
    "\n",
    "tukey_test = pairwise_tukeyhsd(endog=df1['змінна'], groups=df1['Діяльність'], alpha=0.05)\n",
    "print(tukey_test)"
   ]
  },
  {
   "cell_type": "markdown",
   "id": "cc175a6b",
   "metadata": {},
   "source": [
    "В результаті проведення тесту Тьюкі отримали значення, що свідчать про те, що між групами не існує статистично значущої різниці, що суперечить обчисленням, проведеним раніше. Це може бути пов'язано з тим, що дані розподілені не за нормальним законом,що не підходить для параметричних тестів, в тому числі і для дисперсійного аналізу."
   ]
  }
 ],
 "metadata": {
  "kernelspec": {
   "display_name": "Python 3 (ipykernel)",
   "language": "python",
   "name": "python3"
  },
  "language_info": {
   "codemirror_mode": {
    "name": "ipython",
    "version": 3
   },
   "file_extension": ".py",
   "mimetype": "text/x-python",
   "name": "python",
   "nbconvert_exporter": "python",
   "pygments_lexer": "ipython3",
   "version": "3.11.5"
  }
 },
 "nbformat": 4,
 "nbformat_minor": 5
}
